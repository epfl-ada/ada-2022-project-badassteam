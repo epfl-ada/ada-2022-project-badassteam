{
 "cells": [
  {
   "attachments": {},
   "cell_type": "markdown",
   "metadata": {},
   "source": [
    "# 1. Introduction"
   ]
  },
  {
   "attachments": {},
   "cell_type": "markdown",
   "metadata": {},
   "source": [
    "The introduction starts.  \n",
    "\n",
    "<font size=4>**Table of contents:**</font>\n",
    "  \n",
    "[1. Introduction](#1.-introduction)  \n",
    "&emsp;&emsp;&emsp;&emsp;[1.1. Virtual environment setup](#1.1.-virtual-environment-setup)  \n",
    "&emsp;&emsp;&emsp;&emsp;[1.2. Libraries import](#1.2.-libraries-import)  \n",
    "[2. Data handling](#2.-data-handling)  \n",
    "&emsp;&emsp;&emsp;&emsp;[2.1. Data import](#2.1.-data-import)  \n",
    "&emsp;&emsp;&emsp;&emsp;&emsp;&emsp;&emsp;&emsp;[2.1.1. Characters data](#2.1.1.-characters-data)  \n",
    "&emsp;&emsp;&emsp;&emsp;&emsp;&emsp;&emsp;&emsp;[2.1.2. Movies data](#2.1.2.-movies-data)  \n",
    "&emsp;&emsp;&emsp;&emsp;&emsp;&emsp;&emsp;&emsp;[2.1.3. Summaries data](#2.1.3.-summaries-data)  \n",
    "&emsp;&emsp;&emsp;&emsp;[2.2. Data exploration](#2.2.-data-exploration)  \n",
    "&emsp;&emsp;&emsp;&emsp;&emsp;&emsp;&emsp;&emsp;[2.2.1. All countries](#2.2.1.-all-countries)  \n",
    "&emsp;&emsp;&emsp;&emsp;&emsp;&emsp;&emsp;&emsp;&emsp;&emsp;&emsp;&emsp;[2.2.1.1. Movies analysis by country](#2.2.1.1.-movies-analysis-by-country)  \n",
    "&emsp;&emsp;&emsp;&emsp;&emsp;&emsp;&emsp;&emsp;&emsp;&emsp;&emsp;&emsp;[2.2.1.2. Characters gender analysis by country](#2.2.1.2.-characters-gender-analysis-by-country)  \n",
    "&emsp;&emsp;&emsp;&emsp;&emsp;&emsp;&emsp;&emsp;[2.2.2. USA](#2.2.2.-usa)  \n",
    "&emsp;&emsp;&emsp;&emsp;&emsp;&emsp;&emsp;&emsp;&emsp;&emsp;&emsp;&emsp;[2.2.2.1. Movies analysis by decade](#2.2.2.1.-movies-analysis-by-decade)  \n",
    "&emsp;&emsp;&emsp;&emsp;&emsp;&emsp;&emsp;&emsp;&emsp;&emsp;&emsp;&emsp;[2.2.2.2. Movies analysis by genre](#2.2.2.2.-movies-analysis-by-genre)  \n",
    "&emsp;&emsp;&emsp;&emsp;&emsp;&emsp;&emsp;&emsp;[2.2.3. Characters](#2.2.3.-characters)  \n",
    "&emsp;&emsp;&emsp;&emsp;&emsp;&emsp;&emsp;&emsp;&emsp;&emsp;&emsp;&emsp;[2.2.3.1. Distribution of man/woman characters](#2.2.3.1.-distribution-of-man/woman-characters)  \n",
    "&emsp;&emsp;&emsp;&emsp;&emsp;&emsp;&emsp;&emsp;&emsp;&emsp;&emsp;&emsp;[2.2.3.2. Representations of gender](#2.2.3.2.-representations-of-gender)  \n",
    "&emsp;&emsp;&emsp;&emsp;[2.3. Data enrichment](#2.3.-data-enrichment)  \n",
    "&emsp;&emsp;&emsp;&emsp;&emsp;&emsp;&emsp;&emsp;[2.3.1. Wikidata](#2.3.1.-wikidata)  \n",
    "&emsp;&emsp;&emsp;&emsp;&emsp;&emsp;&emsp;&emsp;&emsp;&emsp;&emsp;&emsp;[2.3.1.1. Wikidata_ID to Wikipedia_ID](#2.3.1.1.-wikidata_id-to-wikipedia_id)  \n",
    "&emsp;&emsp;&emsp;&emsp;&emsp;&emsp;&emsp;&emsp;&emsp;&emsp;&emsp;&emsp;[2.3.1.2. Review scores](#2.3.1.2.-review-scores)  \n",
    "&emsp;&emsp;&emsp;&emsp;&emsp;&emsp;&emsp;&emsp;[2.3.2. NLP analysis with Spacy](#2.3.2.-nlp-analysis-with-spacy)  \n",
    "&emsp;&emsp;&emsp;&emsp;[2.4. Data combination](#2.4.-data-combination)  \n",
    "&emsp;&emsp;&emsp;&emsp;&emsp;&emsp;&emsp;&emsp;[2.4.1. Characters data](#2.4.1.-characters-data)  \n",
    "&emsp;&emsp;&emsp;&emsp;&emsp;&emsp;&emsp;&emsp;[2.4.2. Movies data](#2.4.2.-movies-data)  \n",
    "&emsp;&emsp;&emsp;&emsp;&emsp;&emsp;&emsp;&emsp;[2.4.3. Summaries data](#2.4.3.-summaries-data)  \n",
    "[3. Data analysis](#3.-data-analysis)  \n",
    "&emsp;&emsp;&emsp;&emsp;[3.1. Summaries analysis](#3.1.-summaries-analysis)  \n",
    "&emsp;&emsp;&emsp;&emsp;&emsp;&emsp;&emsp;&emsp;[3.1.1. Adjectives](#3.1.1.-adjectives)  \n",
    "&emsp;&emsp;&emsp;&emsp;&emsp;&emsp;&emsp;&emsp;[3.1.2. Verbs](#3.1.2.-verbs)  \n",
    "&emsp;&emsp;&emsp;&emsp;&emsp;&emsp;&emsp;&emsp;[3.1.3. Attributes](#3.1.3.-attributes)  \n",
    "&emsp;&emsp;&emsp;&emsp;[3.2. Lexical analysis](#3.2.-lexical-analysis)  \n",
    "&emsp;&emsp;&emsp;&emsp;&emsp;&emsp;&emsp;&emsp;[3.2.1. Empath](#3.2.1.-empath)  \n",
    "&emsp;&emsp;&emsp;&emsp;&emsp;&emsp;&emsp;&emsp;[3.2.2. Barlot lexical (all decades)](#3.2.2.-barlot-lexical-(all-decades))  \n",
    "&emsp;&emsp;&emsp;&emsp;&emsp;&emsp;&emsp;&emsp;[3.2.3. Exploring the gender bias : Random Forest Model](#3.2.3.-exploring-the-gender-bias-:-random-forest-model)  \n",
    "&emsp;&emsp;&emsp;&emsp;&emsp;&emsp;&emsp;&emsp;[3.2.4. Evolution of lexical fields ove time](#3.2.4.-evolution-of-lexical-fields-ove-time)  \n",
    "&emsp;&emsp;&emsp;&emsp;&emsp;&emsp;&emsp;&emsp;[3.2.5. Principal Component Analysis (PCA)](#3.2.5.-principal-component-analysis-(pca))  \n",
    "&emsp;&emsp;&emsp;&emsp;[3.3. Review scores analysis](#3.3.-review-scores-analysis)  \n",
    "&emsp;&emsp;&emsp;&emsp;&emsp;&emsp;&emsp;&emsp;[3.3.1. Gender dependecy](#3.3.1.-gender-dependecy)  \n",
    "&emsp;&emsp;&emsp;&emsp;&emsp;&emsp;&emsp;&emsp;[3.3.2. Man/woman count](#3.3.2.-man/woman-count)  \n",
    "&emsp;&emsp;&emsp;&emsp;&emsp;&emsp;&emsp;&emsp;[3.3.3. Analysis by movie genre](#3.3.3.-analysis-by-movie-genre)  \n",
    "[4. Annexes](#4.-annexes)  \n",
    "&emsp;&emsp;&emsp;&emsp;[4.1. Table of content generation](#4.1.-table-of-content-generation)  \n"
   ]
  },
  {
   "attachments": {},
   "cell_type": "markdown",
   "metadata": {},
   "source": [
    "## 1.1. Virtual environment setup"
   ]
  },
  {
   "attachments": {},
   "cell_type": "markdown",
   "metadata": {},
   "source": [
    "## 1.2. Libraries import"
   ]
  },
  {
   "cell_type": "code",
   "execution_count": 23,
   "metadata": {},
   "outputs": [],
   "source": [
    "#pip install -U spacy\n",
    "#python -m spacy download en_core_web_trf\n",
    "\n",
    "#Imports\n",
    "import pandas as pd\n",
    "import numpy as np\n",
    "import os\n",
    "import matplotlib.pyplot as plt\n",
    "import seaborn as sns\n",
    "import networkx as nx\n",
    "import statsmodels.api as sm\n",
    "import statsmodels.formula.api as smf\n",
    "from IPython.display import Image\n",
    "from lxml import objectify\n",
    "import math\n",
    "import time\n",
    "#import neuralcoref\n",
    "import dateparser\n",
    "import re\n",
    "import csv\n",
    "import coreferee, spacy\n",
    "import fnmatch\n",
    "#from pytrends.request import TrendReq\n",
    "from wordcloud import WordCloud\n",
    "#from ast import literal_eval\n",
    "from collections import Counter\n",
    "from spacy import displacy\n",
    "from spacy.tokens import Span\n",
    "from fuzzywuzzy import fuzz\n",
    "from fuzzywuzzy import process\n",
    "from fuzzywuzzy import utils\n",
    "from spacy.tokens import Doc\n",
    "from itertools import groupby\n",
    "from tqdm import tqdm\n",
    "import tqdm as notebook_tqdm\n",
    "import spacy\n",
    "\n",
    "#Import data from wikidata.org\n",
    "#from wikidata2df import wikidata2df\n",
    "\n",
    "#Convert country name to ISO-3\n",
    "import country_converter as coco\n",
    "\n",
    "#World map plot librairies\n",
    "import plotly.offline as po\n",
    "import plotly.graph_objs as pg\n",
    "import plotly.express as px\n",
    "import plotly.graph_objs as go\n",
    "\n",
    "# Analysis of the lexical fields\n",
    "from empath import Empath \n",
    "\n",
    "#Warnings\n",
    "import warnings\n",
    "\n",
    "data_folder = './data/'"
   ]
  },
  {
   "attachments": {},
   "cell_type": "markdown",
   "metadata": {},
   "source": [
    "# 2. Data handling"
   ]
  },
  {
   "attachments": {},
   "cell_type": "markdown",
   "metadata": {},
   "source": [
    "## 2.1. Data import"
   ]
  },
  {
   "attachments": {},
   "cell_type": "markdown",
   "metadata": {},
   "source": [
    "### 2.1.1. Characters data"
   ]
  },
  {
   "cell_type": "code",
   "execution_count": 2,
   "metadata": {},
   "outputs": [
    {
     "data": {
      "text/html": [
       "<div>\n",
       "<style scoped>\n",
       "    .dataframe tbody tr th:only-of-type {\n",
       "        vertical-align: middle;\n",
       "    }\n",
       "\n",
       "    .dataframe tbody tr th {\n",
       "        vertical-align: top;\n",
       "    }\n",
       "\n",
       "    .dataframe thead th {\n",
       "        text-align: right;\n",
       "    }\n",
       "</style>\n",
       "<table border=\"1\" class=\"dataframe\">\n",
       "  <thead>\n",
       "    <tr style=\"text-align: right;\">\n",
       "      <th></th>\n",
       "      <th>Wikipedia_movie_ID</th>\n",
       "      <th>Freebase_movie_ID</th>\n",
       "      <th>Movie_date</th>\n",
       "      <th>Character_name</th>\n",
       "      <th>Actor_date_of_birth</th>\n",
       "      <th>Actor_gender</th>\n",
       "      <th>Actor_height</th>\n",
       "      <th>Actor_ethnicity</th>\n",
       "      <th>Actor_name</th>\n",
       "      <th>Actor_age_at_movie_release</th>\n",
       "      <th>Freebase_character_actor_ID</th>\n",
       "      <th>Freebase_character_ID</th>\n",
       "      <th>Freebase_actor_ID</th>\n",
       "    </tr>\n",
       "  </thead>\n",
       "  <tbody>\n",
       "    <tr>\n",
       "      <th>0</th>\n",
       "      <td>975900</td>\n",
       "      <td>/m/03vyhn</td>\n",
       "      <td>2001-08-24</td>\n",
       "      <td>Akooshay</td>\n",
       "      <td>1958-08-26</td>\n",
       "      <td>F</td>\n",
       "      <td>1.620</td>\n",
       "      <td>NaN</td>\n",
       "      <td>Wanda De Jesus</td>\n",
       "      <td>42.0</td>\n",
       "      <td>/m/0bgchxw</td>\n",
       "      <td>/m/0bgcj3x</td>\n",
       "      <td>/m/03wcfv7</td>\n",
       "    </tr>\n",
       "    <tr>\n",
       "      <th>1</th>\n",
       "      <td>975900</td>\n",
       "      <td>/m/03vyhn</td>\n",
       "      <td>2001-08-24</td>\n",
       "      <td>Lieutenant Melanie Ballard</td>\n",
       "      <td>1974-08-15</td>\n",
       "      <td>F</td>\n",
       "      <td>1.780</td>\n",
       "      <td>/m/044038p</td>\n",
       "      <td>Natasha Henstridge</td>\n",
       "      <td>27.0</td>\n",
       "      <td>/m/0jys3m</td>\n",
       "      <td>/m/0bgchn4</td>\n",
       "      <td>/m/0346l4</td>\n",
       "    </tr>\n",
       "    <tr>\n",
       "      <th>2</th>\n",
       "      <td>975900</td>\n",
       "      <td>/m/03vyhn</td>\n",
       "      <td>2001-08-24</td>\n",
       "      <td>Desolation Williams</td>\n",
       "      <td>1969-06-15</td>\n",
       "      <td>M</td>\n",
       "      <td>1.727</td>\n",
       "      <td>/m/0x67</td>\n",
       "      <td>Ice Cube</td>\n",
       "      <td>32.0</td>\n",
       "      <td>/m/0jys3g</td>\n",
       "      <td>/m/0bgchn_</td>\n",
       "      <td>/m/01vw26l</td>\n",
       "    </tr>\n",
       "    <tr>\n",
       "      <th>3</th>\n",
       "      <td>975900</td>\n",
       "      <td>/m/03vyhn</td>\n",
       "      <td>2001-08-24</td>\n",
       "      <td>Sgt Jericho Butler</td>\n",
       "      <td>1967-09-12</td>\n",
       "      <td>M</td>\n",
       "      <td>1.750</td>\n",
       "      <td>NaN</td>\n",
       "      <td>Jason Statham</td>\n",
       "      <td>33.0</td>\n",
       "      <td>/m/02vchl6</td>\n",
       "      <td>/m/0bgchnq</td>\n",
       "      <td>/m/034hyc</td>\n",
       "    </tr>\n",
       "    <tr>\n",
       "      <th>4</th>\n",
       "      <td>975900</td>\n",
       "      <td>/m/03vyhn</td>\n",
       "      <td>2001-08-24</td>\n",
       "      <td>Bashira Kincaid</td>\n",
       "      <td>1977-09-25</td>\n",
       "      <td>F</td>\n",
       "      <td>1.650</td>\n",
       "      <td>NaN</td>\n",
       "      <td>Clea DuVall</td>\n",
       "      <td>23.0</td>\n",
       "      <td>/m/02vbb3r</td>\n",
       "      <td>/m/0bgchp9</td>\n",
       "      <td>/m/01y9xg</td>\n",
       "    </tr>\n",
       "    <tr>\n",
       "      <th>...</th>\n",
       "      <td>...</td>\n",
       "      <td>...</td>\n",
       "      <td>...</td>\n",
       "      <td>...</td>\n",
       "      <td>...</td>\n",
       "      <td>...</td>\n",
       "      <td>...</td>\n",
       "      <td>...</td>\n",
       "      <td>...</td>\n",
       "      <td>...</td>\n",
       "      <td>...</td>\n",
       "      <td>...</td>\n",
       "      <td>...</td>\n",
       "    </tr>\n",
       "    <tr>\n",
       "      <th>450664</th>\n",
       "      <td>913762</td>\n",
       "      <td>/m/03pcrp</td>\n",
       "      <td>1992-05-21</td>\n",
       "      <td>Elensh</td>\n",
       "      <td>1970-05</td>\n",
       "      <td>F</td>\n",
       "      <td>NaN</td>\n",
       "      <td>NaN</td>\n",
       "      <td>Dorothy Elias-Fahn</td>\n",
       "      <td>NaN</td>\n",
       "      <td>/m/0kr406c</td>\n",
       "      <td>/m/0kr406h</td>\n",
       "      <td>/m/0b_vcv</td>\n",
       "    </tr>\n",
       "    <tr>\n",
       "      <th>450665</th>\n",
       "      <td>913762</td>\n",
       "      <td>/m/03pcrp</td>\n",
       "      <td>1992-05-21</td>\n",
       "      <td>Hibiki</td>\n",
       "      <td>1965-04-12</td>\n",
       "      <td>M</td>\n",
       "      <td>NaN</td>\n",
       "      <td>NaN</td>\n",
       "      <td>Jonathan Fahn</td>\n",
       "      <td>27.0</td>\n",
       "      <td>/m/0kr405_</td>\n",
       "      <td>/m/0kr4090</td>\n",
       "      <td>/m/0bx7_j</td>\n",
       "    </tr>\n",
       "    <tr>\n",
       "      <th>450666</th>\n",
       "      <td>28308153</td>\n",
       "      <td>/m/0cp05t9</td>\n",
       "      <td>1957</td>\n",
       "      <td>NaN</td>\n",
       "      <td>1941-11-18</td>\n",
       "      <td>M</td>\n",
       "      <td>1.730</td>\n",
       "      <td>/m/02w7gg</td>\n",
       "      <td>David Hemmings</td>\n",
       "      <td>15.0</td>\n",
       "      <td>/m/0g8ngmc</td>\n",
       "      <td>NaN</td>\n",
       "      <td>/m/022g44</td>\n",
       "    </tr>\n",
       "    <tr>\n",
       "      <th>450667</th>\n",
       "      <td>28308153</td>\n",
       "      <td>/m/0cp05t9</td>\n",
       "      <td>1957</td>\n",
       "      <td>NaN</td>\n",
       "      <td>NaN</td>\n",
       "      <td>NaN</td>\n",
       "      <td>NaN</td>\n",
       "      <td>NaN</td>\n",
       "      <td>Roberta Paterson</td>\n",
       "      <td>NaN</td>\n",
       "      <td>/m/0g8ngmj</td>\n",
       "      <td>NaN</td>\n",
       "      <td>/m/0g8ngmm</td>\n",
       "    </tr>\n",
       "    <tr>\n",
       "      <th>450668</th>\n",
       "      <td>28308153</td>\n",
       "      <td>/m/0cp05t9</td>\n",
       "      <td>1957</td>\n",
       "      <td>NaN</td>\n",
       "      <td>NaN</td>\n",
       "      <td>NaN</td>\n",
       "      <td>NaN</td>\n",
       "      <td>NaN</td>\n",
       "      <td>John Rogers</td>\n",
       "      <td>NaN</td>\n",
       "      <td>/m/0g8ngmw</td>\n",
       "      <td>NaN</td>\n",
       "      <td>/m/0btz19d</td>\n",
       "    </tr>\n",
       "  </tbody>\n",
       "</table>\n",
       "<p>450669 rows × 13 columns</p>\n",
       "</div>"
      ],
      "text/plain": [
       "        Wikipedia_movie_ID Freebase_movie_ID  Movie_date  \\\n",
       "0                   975900         /m/03vyhn  2001-08-24   \n",
       "1                   975900         /m/03vyhn  2001-08-24   \n",
       "2                   975900         /m/03vyhn  2001-08-24   \n",
       "3                   975900         /m/03vyhn  2001-08-24   \n",
       "4                   975900         /m/03vyhn  2001-08-24   \n",
       "...                    ...               ...         ...   \n",
       "450664              913762         /m/03pcrp  1992-05-21   \n",
       "450665              913762         /m/03pcrp  1992-05-21   \n",
       "450666            28308153        /m/0cp05t9        1957   \n",
       "450667            28308153        /m/0cp05t9        1957   \n",
       "450668            28308153        /m/0cp05t9        1957   \n",
       "\n",
       "                    Character_name Actor_date_of_birth Actor_gender  \\\n",
       "0                         Akooshay          1958-08-26            F   \n",
       "1       Lieutenant Melanie Ballard          1974-08-15            F   \n",
       "2              Desolation Williams          1969-06-15            M   \n",
       "3               Sgt Jericho Butler          1967-09-12            M   \n",
       "4                  Bashira Kincaid          1977-09-25            F   \n",
       "...                            ...                 ...          ...   \n",
       "450664                      Elensh             1970-05            F   \n",
       "450665                      Hibiki          1965-04-12            M   \n",
       "450666                         NaN          1941-11-18            M   \n",
       "450667                         NaN                 NaN          NaN   \n",
       "450668                         NaN                 NaN          NaN   \n",
       "\n",
       "        Actor_height Actor_ethnicity          Actor_name  \\\n",
       "0              1.620             NaN      Wanda De Jesus   \n",
       "1              1.780      /m/044038p  Natasha Henstridge   \n",
       "2              1.727         /m/0x67            Ice Cube   \n",
       "3              1.750             NaN       Jason Statham   \n",
       "4              1.650             NaN         Clea DuVall   \n",
       "...              ...             ...                 ...   \n",
       "450664           NaN             NaN  Dorothy Elias-Fahn   \n",
       "450665           NaN             NaN       Jonathan Fahn   \n",
       "450666         1.730       /m/02w7gg      David Hemmings   \n",
       "450667           NaN             NaN    Roberta Paterson   \n",
       "450668           NaN             NaN         John Rogers   \n",
       "\n",
       "        Actor_age_at_movie_release Freebase_character_actor_ID  \\\n",
       "0                             42.0                  /m/0bgchxw   \n",
       "1                             27.0                   /m/0jys3m   \n",
       "2                             32.0                   /m/0jys3g   \n",
       "3                             33.0                  /m/02vchl6   \n",
       "4                             23.0                  /m/02vbb3r   \n",
       "...                            ...                         ...   \n",
       "450664                         NaN                  /m/0kr406c   \n",
       "450665                        27.0                  /m/0kr405_   \n",
       "450666                        15.0                  /m/0g8ngmc   \n",
       "450667                         NaN                  /m/0g8ngmj   \n",
       "450668                         NaN                  /m/0g8ngmw   \n",
       "\n",
       "       Freebase_character_ID Freebase_actor_ID  \n",
       "0                 /m/0bgcj3x        /m/03wcfv7  \n",
       "1                 /m/0bgchn4         /m/0346l4  \n",
       "2                 /m/0bgchn_        /m/01vw26l  \n",
       "3                 /m/0bgchnq         /m/034hyc  \n",
       "4                 /m/0bgchp9         /m/01y9xg  \n",
       "...                      ...               ...  \n",
       "450664            /m/0kr406h         /m/0b_vcv  \n",
       "450665            /m/0kr4090         /m/0bx7_j  \n",
       "450666                   NaN         /m/022g44  \n",
       "450667                   NaN        /m/0g8ngmm  \n",
       "450668                   NaN        /m/0btz19d  \n",
       "\n",
       "[450669 rows x 13 columns]"
      ]
     },
     "execution_count": 2,
     "metadata": {},
     "output_type": "execute_result"
    }
   ],
   "source": [
    "### Character metadata import\n",
    "df_character = pd.read_table(data_folder +'character.metadata.tsv',header=None)\n",
    "df_character.columns=['Wikipedia_movie_ID' , 'Freebase_movie_ID' , 'Movie_date' , 'Character_name' , 'Actor_date_of_birth' , 'Actor_gender' , 'Actor_height' , 'Actor_ethnicity' , 'Actor_name' , 'Actor_age_at_movie_release' , 'Freebase_character_actor_ID' , 'Freebase_character_ID' , 'Freebase_actor_ID'  ]\n",
    "\n",
    "#Correct when actor age is negative or too high to be real (higher than 130)\n",
    "df_character['Actor_age_at_movie_release']=df_character['Actor_age_at_movie_release'].apply(lambda x: -x if x<0 else x)\n",
    "df_character['Actor_age_at_movie_release']=df_character['Actor_age_at_movie_release'].apply(lambda x: float(\"nan\") if x>130 else x)\n",
    "df_character"
   ]
  },
  {
   "attachments": {},
   "cell_type": "markdown",
   "metadata": {},
   "source": [
    "### 2.1.2. Movies data"
   ]
  },
  {
   "cell_type": "code",
   "execution_count": 3,
   "metadata": {},
   "outputs": [
    {
     "data": {
      "text/html": [
       "<div>\n",
       "<style scoped>\n",
       "    .dataframe tbody tr th:only-of-type {\n",
       "        vertical-align: middle;\n",
       "    }\n",
       "\n",
       "    .dataframe tbody tr th {\n",
       "        vertical-align: top;\n",
       "    }\n",
       "\n",
       "    .dataframe thead th {\n",
       "        text-align: right;\n",
       "    }\n",
       "</style>\n",
       "<table border=\"1\" class=\"dataframe\">\n",
       "  <thead>\n",
       "    <tr style=\"text-align: right;\">\n",
       "      <th></th>\n",
       "      <th>Wikipedia_movie_ID</th>\n",
       "      <th>Freebase_movie_ID</th>\n",
       "      <th>Movie_name</th>\n",
       "      <th>Movie_date</th>\n",
       "      <th>Movie_revenue</th>\n",
       "      <th>Movie_runtime</th>\n",
       "      <th>Movie_languages</th>\n",
       "      <th>Movie_countries</th>\n",
       "      <th>Movie_genres</th>\n",
       "    </tr>\n",
       "  </thead>\n",
       "  <tbody>\n",
       "    <tr>\n",
       "      <th>0</th>\n",
       "      <td>975900</td>\n",
       "      <td>/m/03vyhn</td>\n",
       "      <td>Ghosts of Mars</td>\n",
       "      <td>2001-08-24</td>\n",
       "      <td>14010832.0</td>\n",
       "      <td>98.0</td>\n",
       "      <td>{\"/m/02h40lc\": \"English Language\"}</td>\n",
       "      <td>[United States of America]</td>\n",
       "      <td>[Thriller, Science Fiction, Horror, Adventure,...</td>\n",
       "    </tr>\n",
       "    <tr>\n",
       "      <th>1</th>\n",
       "      <td>3196793</td>\n",
       "      <td>/m/08yl5d</td>\n",
       "      <td>Getting Away with Murder: The JonBenét Ramsey ...</td>\n",
       "      <td>2000-02-16</td>\n",
       "      <td>NaN</td>\n",
       "      <td>95.0</td>\n",
       "      <td>{\"/m/02h40lc\": \"English Language\"}</td>\n",
       "      <td>[United States of America]</td>\n",
       "      <td>[Mystery, Biographical film, Drama, Crime Drama]</td>\n",
       "    </tr>\n",
       "    <tr>\n",
       "      <th>2</th>\n",
       "      <td>28463795</td>\n",
       "      <td>/m/0crgdbh</td>\n",
       "      <td>Brun bitter</td>\n",
       "      <td>1988</td>\n",
       "      <td>NaN</td>\n",
       "      <td>83.0</td>\n",
       "      <td>{\"/m/05f_3\": \"Norwegian Language\"}</td>\n",
       "      <td>[Norway]</td>\n",
       "      <td>[Crime Fiction, Drama]</td>\n",
       "    </tr>\n",
       "    <tr>\n",
       "      <th>3</th>\n",
       "      <td>9363483</td>\n",
       "      <td>/m/0285_cd</td>\n",
       "      <td>White Of The Eye</td>\n",
       "      <td>1987</td>\n",
       "      <td>NaN</td>\n",
       "      <td>110.0</td>\n",
       "      <td>{\"/m/02h40lc\": \"English Language\"}</td>\n",
       "      <td>[United Kingdom]</td>\n",
       "      <td>[Thriller, Erotic thriller, Psychological thri...</td>\n",
       "    </tr>\n",
       "    <tr>\n",
       "      <th>4</th>\n",
       "      <td>261236</td>\n",
       "      <td>/m/01mrr1</td>\n",
       "      <td>A Woman in Flames</td>\n",
       "      <td>1983</td>\n",
       "      <td>NaN</td>\n",
       "      <td>106.0</td>\n",
       "      <td>{\"/m/04306rv\": \"German Language\"}</td>\n",
       "      <td>[Germany]</td>\n",
       "      <td>[Drama]</td>\n",
       "    </tr>\n",
       "    <tr>\n",
       "      <th>...</th>\n",
       "      <td>...</td>\n",
       "      <td>...</td>\n",
       "      <td>...</td>\n",
       "      <td>...</td>\n",
       "      <td>...</td>\n",
       "      <td>...</td>\n",
       "      <td>...</td>\n",
       "      <td>...</td>\n",
       "      <td>...</td>\n",
       "    </tr>\n",
       "    <tr>\n",
       "      <th>81736</th>\n",
       "      <td>35228177</td>\n",
       "      <td>/m/0j7hxnt</td>\n",
       "      <td>Mermaids: The Body Found</td>\n",
       "      <td>2011-03-19</td>\n",
       "      <td>NaN</td>\n",
       "      <td>120.0</td>\n",
       "      <td>{\"/m/02h40lc\": \"English Language\"}</td>\n",
       "      <td>[United States of America]</td>\n",
       "      <td>[Drama]</td>\n",
       "    </tr>\n",
       "    <tr>\n",
       "      <th>81737</th>\n",
       "      <td>34980460</td>\n",
       "      <td>/m/0g4pl34</td>\n",
       "      <td>Knuckle</td>\n",
       "      <td>2011-01-21</td>\n",
       "      <td>NaN</td>\n",
       "      <td>96.0</td>\n",
       "      <td>{\"/m/02h40lc\": \"English Language\"}</td>\n",
       "      <td>[Ireland, United Kingdom]</td>\n",
       "      <td>[Biographical film, Drama, Documentary]</td>\n",
       "    </tr>\n",
       "    <tr>\n",
       "      <th>81738</th>\n",
       "      <td>9971909</td>\n",
       "      <td>/m/02pygw1</td>\n",
       "      <td>Another Nice Mess</td>\n",
       "      <td>1972-09-22</td>\n",
       "      <td>NaN</td>\n",
       "      <td>66.0</td>\n",
       "      <td>{\"/m/02h40lc\": \"English Language\"}</td>\n",
       "      <td>[United States of America]</td>\n",
       "      <td>[Satire, Comedy]</td>\n",
       "    </tr>\n",
       "    <tr>\n",
       "      <th>81739</th>\n",
       "      <td>913762</td>\n",
       "      <td>/m/03pcrp</td>\n",
       "      <td>The Super Dimension Fortress Macross II: Lover...</td>\n",
       "      <td>1992-05-21</td>\n",
       "      <td>NaN</td>\n",
       "      <td>150.0</td>\n",
       "      <td>{\"/m/03_9r\": \"Japanese Language\"}</td>\n",
       "      <td>[Japan]</td>\n",
       "      <td>[Science Fiction, Japanese Movies, Adventure, ...</td>\n",
       "    </tr>\n",
       "    <tr>\n",
       "      <th>81740</th>\n",
       "      <td>12476867</td>\n",
       "      <td>/m/02w7zz8</td>\n",
       "      <td>Spliced</td>\n",
       "      <td>2002</td>\n",
       "      <td>NaN</td>\n",
       "      <td>86.0</td>\n",
       "      <td>{\"/m/02h40lc\": \"English Language\"}</td>\n",
       "      <td>[Canada]</td>\n",
       "      <td>[Thriller, Horror, Slasher, Teen]</td>\n",
       "    </tr>\n",
       "  </tbody>\n",
       "</table>\n",
       "<p>81741 rows × 9 columns</p>\n",
       "</div>"
      ],
      "text/plain": [
       "       Wikipedia_movie_ID Freebase_movie_ID  \\\n",
       "0                  975900         /m/03vyhn   \n",
       "1                 3196793         /m/08yl5d   \n",
       "2                28463795        /m/0crgdbh   \n",
       "3                 9363483        /m/0285_cd   \n",
       "4                  261236         /m/01mrr1   \n",
       "...                   ...               ...   \n",
       "81736            35228177        /m/0j7hxnt   \n",
       "81737            34980460        /m/0g4pl34   \n",
       "81738             9971909        /m/02pygw1   \n",
       "81739              913762         /m/03pcrp   \n",
       "81740            12476867        /m/02w7zz8   \n",
       "\n",
       "                                              Movie_name  Movie_date  \\\n",
       "0                                         Ghosts of Mars  2001-08-24   \n",
       "1      Getting Away with Murder: The JonBenét Ramsey ...  2000-02-16   \n",
       "2                                            Brun bitter        1988   \n",
       "3                                       White Of The Eye        1987   \n",
       "4                                      A Woman in Flames        1983   \n",
       "...                                                  ...         ...   \n",
       "81736                           Mermaids: The Body Found  2011-03-19   \n",
       "81737                                            Knuckle  2011-01-21   \n",
       "81738                                  Another Nice Mess  1972-09-22   \n",
       "81739  The Super Dimension Fortress Macross II: Lover...  1992-05-21   \n",
       "81740                                            Spliced        2002   \n",
       "\n",
       "       Movie_revenue  Movie_runtime                     Movie_languages  \\\n",
       "0         14010832.0           98.0  {\"/m/02h40lc\": \"English Language\"}   \n",
       "1                NaN           95.0  {\"/m/02h40lc\": \"English Language\"}   \n",
       "2                NaN           83.0  {\"/m/05f_3\": \"Norwegian Language\"}   \n",
       "3                NaN          110.0  {\"/m/02h40lc\": \"English Language\"}   \n",
       "4                NaN          106.0   {\"/m/04306rv\": \"German Language\"}   \n",
       "...              ...            ...                                 ...   \n",
       "81736            NaN          120.0  {\"/m/02h40lc\": \"English Language\"}   \n",
       "81737            NaN           96.0  {\"/m/02h40lc\": \"English Language\"}   \n",
       "81738            NaN           66.0  {\"/m/02h40lc\": \"English Language\"}   \n",
       "81739            NaN          150.0   {\"/m/03_9r\": \"Japanese Language\"}   \n",
       "81740            NaN           86.0  {\"/m/02h40lc\": \"English Language\"}   \n",
       "\n",
       "                  Movie_countries  \\\n",
       "0      [United States of America]   \n",
       "1      [United States of America]   \n",
       "2                        [Norway]   \n",
       "3                [United Kingdom]   \n",
       "4                       [Germany]   \n",
       "...                           ...   \n",
       "81736  [United States of America]   \n",
       "81737   [Ireland, United Kingdom]   \n",
       "81738  [United States of America]   \n",
       "81739                     [Japan]   \n",
       "81740                    [Canada]   \n",
       "\n",
       "                                            Movie_genres  \n",
       "0      [Thriller, Science Fiction, Horror, Adventure,...  \n",
       "1       [Mystery, Biographical film, Drama, Crime Drama]  \n",
       "2                                 [Crime Fiction, Drama]  \n",
       "3      [Thriller, Erotic thriller, Psychological thri...  \n",
       "4                                                [Drama]  \n",
       "...                                                  ...  \n",
       "81736                                            [Drama]  \n",
       "81737            [Biographical film, Drama, Documentary]  \n",
       "81738                                   [Satire, Comedy]  \n",
       "81739  [Science Fiction, Japanese Movies, Adventure, ...  \n",
       "81740                  [Thriller, Horror, Slasher, Teen]  \n",
       "\n",
       "[81741 rows x 9 columns]"
      ]
     },
     "execution_count": 3,
     "metadata": {},
     "output_type": "execute_result"
    }
   ],
   "source": [
    "### Movie metadata import\n",
    "df_movie = pd.read_table(data_folder +'movie.metadata.tsv',header=None)\n",
    "df_movie.columns=['Wikipedia_movie_ID' , 'Freebase_movie_ID', 'Movie_name' , 'Movie_date' , 'Movie_revenue' , 'Movie_runtime' , 'Movie_languages' , 'Movie_countries' , 'Movie_genres']\n",
    "df_movie['Movie_countries'] = df_movie['Movie_countries'].apply( lambda x: list(eval(x).values())) #display countries as a list of country names\n",
    "df_movie['Movie_genres'] = df_movie['Movie_genres'].apply( lambda x: list(eval(x).values()) ) #display genres as a list of genre name\n",
    "df_movie"
   ]
  },
  {
   "attachments": {},
   "cell_type": "markdown",
   "metadata": {},
   "source": [
    "### 2.1.3. Summaries data"
   ]
  },
  {
   "cell_type": "code",
   "execution_count": 4,
   "metadata": {},
   "outputs": [
    {
     "data": {
      "text/html": [
       "<div>\n",
       "<style scoped>\n",
       "    .dataframe tbody tr th:only-of-type {\n",
       "        vertical-align: middle;\n",
       "    }\n",
       "\n",
       "    .dataframe tbody tr th {\n",
       "        vertical-align: top;\n",
       "    }\n",
       "\n",
       "    .dataframe thead th {\n",
       "        text-align: right;\n",
       "    }\n",
       "</style>\n",
       "<table border=\"1\" class=\"dataframe\">\n",
       "  <thead>\n",
       "    <tr style=\"text-align: right;\">\n",
       "      <th></th>\n",
       "      <th>Wikipedia_movie_ID</th>\n",
       "      <th>Summary</th>\n",
       "    </tr>\n",
       "  </thead>\n",
       "  <tbody>\n",
       "    <tr>\n",
       "      <th>0</th>\n",
       "      <td>23890098</td>\n",
       "      <td>Shlykov, a hard-working taxi driver and Lyosha...</td>\n",
       "    </tr>\n",
       "    <tr>\n",
       "      <th>1</th>\n",
       "      <td>31186339</td>\n",
       "      <td>The nation of Panem consists of a wealthy Capi...</td>\n",
       "    </tr>\n",
       "    <tr>\n",
       "      <th>2</th>\n",
       "      <td>20663735</td>\n",
       "      <td>Poovalli Induchoodan  is sentenced for six yea...</td>\n",
       "    </tr>\n",
       "    <tr>\n",
       "      <th>3</th>\n",
       "      <td>2231378</td>\n",
       "      <td>The Lemon Drop Kid , a New York City swindler,...</td>\n",
       "    </tr>\n",
       "    <tr>\n",
       "      <th>4</th>\n",
       "      <td>595909</td>\n",
       "      <td>Seventh-day Adventist Church pastor Michael Ch...</td>\n",
       "    </tr>\n",
       "    <tr>\n",
       "      <th>...</th>\n",
       "      <td>...</td>\n",
       "      <td>...</td>\n",
       "    </tr>\n",
       "    <tr>\n",
       "      <th>42298</th>\n",
       "      <td>34808485</td>\n",
       "      <td>The story is about Reema , a young Muslim scho...</td>\n",
       "    </tr>\n",
       "    <tr>\n",
       "      <th>42299</th>\n",
       "      <td>1096473</td>\n",
       "      <td>In 1928 Hollywood, director Leo Andreyev  look...</td>\n",
       "    </tr>\n",
       "    <tr>\n",
       "      <th>42300</th>\n",
       "      <td>35102018</td>\n",
       "      <td>American Luthier focuses on Randy Parsons’ tra...</td>\n",
       "    </tr>\n",
       "    <tr>\n",
       "      <th>42301</th>\n",
       "      <td>8628195</td>\n",
       "      <td>Abdur Rehman Khan , a middle-aged dry fruit se...</td>\n",
       "    </tr>\n",
       "    <tr>\n",
       "      <th>42302</th>\n",
       "      <td>6040782</td>\n",
       "      <td>1940 - Operation Dynamo has just taken place. ...</td>\n",
       "    </tr>\n",
       "  </tbody>\n",
       "</table>\n",
       "<p>42303 rows × 2 columns</p>\n",
       "</div>"
      ],
      "text/plain": [
       "       Wikipedia_movie_ID                                            Summary\n",
       "0                23890098  Shlykov, a hard-working taxi driver and Lyosha...\n",
       "1                31186339  The nation of Panem consists of a wealthy Capi...\n",
       "2                20663735  Poovalli Induchoodan  is sentenced for six yea...\n",
       "3                 2231378  The Lemon Drop Kid , a New York City swindler,...\n",
       "4                  595909  Seventh-day Adventist Church pastor Michael Ch...\n",
       "...                   ...                                                ...\n",
       "42298            34808485  The story is about Reema , a young Muslim scho...\n",
       "42299             1096473  In 1928 Hollywood, director Leo Andreyev  look...\n",
       "42300            35102018  American Luthier focuses on Randy Parsons’ tra...\n",
       "42301             8628195  Abdur Rehman Khan , a middle-aged dry fruit se...\n",
       "42302             6040782  1940 - Operation Dynamo has just taken place. ...\n",
       "\n",
       "[42303 rows x 2 columns]"
      ]
     },
     "execution_count": 4,
     "metadata": {},
     "output_type": "execute_result"
    }
   ],
   "source": [
    "df_summaries = pd.read_csv('./Data/plot_summaries.txt', sep='\\t', header=None,\n",
    "                 names=[\"Wikipedia_movie_ID\", \"Summary\"])\n",
    "df_summaries['Summary'] = df_summaries['Summary'].str.replace('\"', \"'\").replace('\\\\r', '')\n",
    "df_summaries"
   ]
  },
  {
   "attachments": {},
   "cell_type": "markdown",
   "metadata": {},
   "source": [
    "## 2.2. Data exploration"
   ]
  },
  {
   "cell_type": "markdown",
   "id": "c4b52b75",
   "metadata": {},
   "source": [
    "It is important to notice that for each movies, several countries name are specified. We consider each of these countries as country of origin of the movie. Thus, the total number of occurences is much larger than the total number of movies. So we decided to count a movie for each country where it took place.\n",
    "\n",
    "For instance, here the movie \"Knuckle\" has been shot in Ireland and United Kingdom. So it will be coutned as one movie for Ireland and one for United Kingdom."
   ]
  },
  {
   "cell_type": "code",
   "execution_count": 5,
   "id": "f119f984",
   "metadata": {},
   "outputs": [
    {
     "name": "stdout",
     "output_type": "stream",
     "text": [
      "Knuckle\n",
      "['Ireland', 'United Kingdom']\n"
     ]
    }
   ],
   "source": [
    "print(df_movie.iloc[81737]['Movie_name'])\n",
    "print(df_movie.iloc[81737]['Movie_countries'])"
   ]
  },
  {
   "attachments": {},
   "cell_type": "markdown",
   "metadata": {},
   "source": [
    "### 2.2.1. All countries"
   ]
  },
  {
   "attachments": {},
   "cell_type": "markdown",
   "metadata": {},
   "source": [
    "#### 2.2.1.1. Movies analysis by country"
   ]
  },
  {
   "cell_type": "code",
   "execution_count": 10,
   "metadata": {},
   "outputs": [
    {
     "data": {
      "text/html": [
       "<div>\n",
       "<style scoped>\n",
       "    .dataframe tbody tr th:only-of-type {\n",
       "        vertical-align: middle;\n",
       "    }\n",
       "\n",
       "    .dataframe tbody tr th {\n",
       "        vertical-align: top;\n",
       "    }\n",
       "\n",
       "    .dataframe thead th {\n",
       "        text-align: right;\n",
       "    }\n",
       "</style>\n",
       "<table border=\"1\" class=\"dataframe\">\n",
       "  <thead>\n",
       "    <tr style=\"text-align: right;\">\n",
       "      <th></th>\n",
       "      <th>Country</th>\n",
       "      <th>Number_of_movie</th>\n",
       "      <th>Percent</th>\n",
       "    </tr>\n",
       "  </thead>\n",
       "  <tbody>\n",
       "    <tr>\n",
       "      <th>0</th>\n",
       "      <td>United States of America</td>\n",
       "      <td>34408</td>\n",
       "      <td>39.806106</td>\n",
       "    </tr>\n",
       "    <tr>\n",
       "      <th>1</th>\n",
       "      <td>India</td>\n",
       "      <td>8411</td>\n",
       "      <td>9.730561</td>\n",
       "    </tr>\n",
       "    <tr>\n",
       "      <th>2</th>\n",
       "      <td>United Kingdom</td>\n",
       "      <td>7868</td>\n",
       "      <td>9.102373</td>\n",
       "    </tr>\n",
       "    <tr>\n",
       "      <th>3</th>\n",
       "      <td>France</td>\n",
       "      <td>4395</td>\n",
       "      <td>5.084510</td>\n",
       "    </tr>\n",
       "    <tr>\n",
       "      <th>4</th>\n",
       "      <td>Italy</td>\n",
       "      <td>3163</td>\n",
       "      <td>3.659228</td>\n",
       "    </tr>\n",
       "    <tr>\n",
       "      <th>...</th>\n",
       "      <td>...</td>\n",
       "      <td>...</td>\n",
       "      <td>...</td>\n",
       "    </tr>\n",
       "    <tr>\n",
       "      <th>142</th>\n",
       "      <td>Republic of China</td>\n",
       "      <td>1</td>\n",
       "      <td>0.001157</td>\n",
       "    </tr>\n",
       "    <tr>\n",
       "      <th>143</th>\n",
       "      <td>Macau</td>\n",
       "      <td>1</td>\n",
       "      <td>0.001157</td>\n",
       "    </tr>\n",
       "    <tr>\n",
       "      <th>144</th>\n",
       "      <td>Palestinian Territories</td>\n",
       "      <td>1</td>\n",
       "      <td>0.001157</td>\n",
       "    </tr>\n",
       "    <tr>\n",
       "      <th>145</th>\n",
       "      <td>German Language</td>\n",
       "      <td>1</td>\n",
       "      <td>0.001157</td>\n",
       "    </tr>\n",
       "    <tr>\n",
       "      <th>146</th>\n",
       "      <td>Ukranian SSR</td>\n",
       "      <td>1</td>\n",
       "      <td>0.001157</td>\n",
       "    </tr>\n",
       "  </tbody>\n",
       "</table>\n",
       "<p>147 rows × 3 columns</p>\n",
       "</div>"
      ],
      "text/plain": [
       "                      Country  Number_of_movie    Percent\n",
       "0    United States of America            34408  39.806106\n",
       "1                       India             8411   9.730561\n",
       "2              United Kingdom             7868   9.102373\n",
       "3                      France             4395   5.084510\n",
       "4                       Italy             3163   3.659228\n",
       "..                        ...              ...        ...\n",
       "142         Republic of China                1   0.001157\n",
       "143                     Macau                1   0.001157\n",
       "144   Palestinian Territories                1   0.001157\n",
       "145           German Language                1   0.001157\n",
       "146              Ukranian SSR                1   0.001157\n",
       "\n",
       "[147 rows x 3 columns]"
      ]
     },
     "execution_count": 10,
     "metadata": {},
     "output_type": "execute_result"
    }
   ],
   "source": [
    "### First step is to create a new dataset with all countries and numbers of movies done by country.\n",
    "# !!!! Some movies may have been shoot in different countries !!!\n",
    "#Here when a movie appears in two countries, it is count for one movie in each country\n",
    "\n",
    "Movie_by_country = df_movie['Movie_countries'].explode() #Separate countries when a movie has several of them\n",
    "Movie_by_country = Movie_by_country.str.split(',') #Split on comma\n",
    "Movie_by_country = pd.DataFrame(Movie_by_country) \n",
    "Movie_by_country = pd.DataFrame(Movie_by_country.Movie_countries.value_counts().reset_index()).rename(columns={\"index\": \"Country\" , \"Movie_countries\": \"Number_of_movie\"}) #Count the number of occurence of a country\n",
    "Movie_by_country['Percent'] = (Movie_by_country['Number_of_movie']/Movie_by_country['Number_of_movie'].sum())*100\n",
    "Movie_by_country['Country'] = Movie_by_country['Country'].map(lambda x: str(x).replace(\"^\\[.|.\\]$\",\"\")[2:-2])\n",
    "Movie_by_country #Final dataset for country"
   ]
  },
  {
   "cell_type": "code",
   "execution_count": 31,
   "metadata": {},
   "outputs": [
    {
     "name": "stderr",
     "output_type": "stream",
     "text": [
      "West Germany not found in regex\n",
      "Soviet Union not found in regex\n",
      "German Democratic Republic not found in regex\n",
      "Yugoslavia not found in regex\n",
      "England not found in regex\n",
      "Weimar Republic not found in regex\n",
      "Scotland not found in regex\n",
      "Socialist Federal Republic of Yugoslavia not found in regex\n",
      "Serbia and Montenegro not found in regex\n",
      "Federal Republic of Yugoslavia not found in regex\n",
      "Wales not found in regex\n",
      "Northern Ireland not found in regex\n",
      "Soviet occupation zone not found in regex\n",
      "Malayalam Language not found in regex\n",
      "Crime not found in regex\n",
      "German Language not found in regex\n",
      "Ukranian SSR not found in regex\n"
     ]
    },
    {
     "data": {
      "application/vnd.plotly.v1+json": {
       "config": {
        "linkText": "Export to plot.ly",
        "plotlyServerURL": "https://plot.ly",
        "showLink": false
       },
       "data": [
        {
         "colorscale": [
          [
           0,
           "#f7fbff"
          ],
          [
           0.0625,
           "#ebf3fb"
          ],
          [
           0.125,
           "#deebf7"
          ],
          [
           0.1875,
           "#d2e3f3"
          ],
          [
           0.25,
           "#c6dbef"
          ],
          [
           0.3125,
           "#b3d2e9"
          ],
          [
           0.375,
           "#9ecae1"
          ],
          [
           0.4375,
           "#85bcdb"
          ],
          [
           0.5,
           "#6baed6"
          ],
          [
           0.5625,
           "#57a0ce"
          ],
          [
           0.625,
           "#4292c6"
          ],
          [
           0.6875,
           "#3082be"
          ],
          [
           0.75,
           "#2171b5"
          ],
          [
           0.8125,
           "#1361a9"
          ],
          [
           0.875,
           "#08519c"
          ],
          [
           0.9375,
           "#0b4083"
          ],
          [
           1,
           "#08306b"
          ]
         ],
         "locations": [
          "USA",
          "IND",
          "GBR",
          "FRA",
          "ITA",
          "JPN",
          "CAN",
          "DEU",
          "ARG",
          "HKG",
          "ESP",
          "AUS",
          "KOR",
          "MEX",
          "NLD",
          "SWE",
          "not found",
          "CHN",
          "DNK",
          "not found",
          "PHL",
          "POL",
          "CZE",
          "BEL",
          "NZL",
          "NOR",
          "RUS",
          "HUN",
          "not found",
          "not found",
          "BRA",
          "IRL",
          "CHE",
          "AUT",
          "FIN",
          "CZE",
          "ISR",
          "TUR",
          "not found",
          "IRN",
          "THA",
          "ZAF",
          "GRC",
          "PAK",
          "TWN",
          "PRT",
          "HRV",
          "EGY",
          "ROU",
          "IDN",
          "MYS",
          "BGR",
          "LKA",
          "SGP",
          "ISL",
          "KHM",
          "LUX",
          "BGD",
          "not found",
          "CHL",
          "SRB",
          "MAR",
          "CUB",
          "COL",
          "not found",
          "DZA",
          "NPL",
          "TUN",
          "LBN",
          "BFA",
          "EST",
          "BIH",
          "SVK",
          "SEN",
          "SVN",
          "VEN",
          "PRI",
          "VNM",
          "ALB",
          "UKR",
          "KOR",
          "AZE",
          "PER",
          "NGA",
          "MMR",
          "DEU",
          "COD",
          "MKD",
          "URY",
          "not found",
          "not found",
          "GEO",
          "MLI",
          "IRQ",
          "LTU",
          "KEN",
          "ARE",
          "ARM",
          "GBR",
          "CMR",
          "BOL",
          "AFG",
          "not found",
          "GEO",
          "JAM",
          "ETH",
          "PSE",
          "PSE",
          "SVK",
          "UZB",
          "not found",
          "ZWE",
          "PAN",
          "UZB",
          "CRI",
          "MLT",
          "not found",
          "MNE",
          "ITA",
          "MCO",
          "CYP",
          "MNG",
          "COG",
          "UKR",
          "GIN",
          "LBY",
          "BHS",
          "HTI",
          "KWT",
          "BTN",
          "ABW",
          "BHR",
          "QAT",
          "ZMB",
          "IMN",
          "not found",
          "JOR",
          "not found",
          "IRQ",
          "TKM",
          "GNB",
          "not found",
          "TWN",
          "MAC",
          "PSE",
          "not found",
          "not found"
         ],
         "text": [
          "United States of America",
          "India",
          "United Kingdom",
          "France",
          "Italy",
          "Japan",
          "Canada",
          "Germany",
          "Argentina",
          "Hong Kong",
          "Spain",
          "Australia",
          "South Korea",
          "Mexico",
          "Netherlands",
          "Sweden",
          "West Germany",
          "China",
          "Denmark",
          "Soviet Union",
          "Philippines",
          "Poland",
          "Czechoslovakia",
          "Belgium",
          "New Zealand",
          "Norway",
          "Russia",
          "Hungary",
          "German Democratic Republic",
          "Yugoslavia",
          "Brazil",
          "Ireland",
          "Switzerland",
          "Austria",
          "Finland",
          "Czech Republic",
          "Israel",
          "Turkey",
          "England",
          "Iran",
          "Thailand",
          "South Africa",
          "Greece",
          "Pakistan",
          "Taiwan",
          "Portugal",
          "Croatia",
          "Egypt",
          "Romania",
          "Indonesia",
          "Malaysia",
          "Bulgaria",
          "Sri Lanka",
          "Singapore",
          "Iceland",
          "Cambodia",
          "Luxembourg",
          "Bangladesh",
          "Weimar Republic",
          "Chile",
          "Serbia",
          "Morocco",
          "Cuba",
          "Colombia",
          "Scotland",
          "Algeria",
          "Nepal",
          "Tunisia",
          "Lebanon",
          "Burkina Faso",
          "Estonia",
          "Bosnia and Herzegovina",
          "Slovakia",
          "Senegal",
          "Slovenia",
          "Venezuela",
          "Puerto Rico",
          "Vietnam",
          "Albania",
          "Ukraine",
          "Korea",
          "Azerbaijan",
          "Peru",
          "Nigeria",
          "Burma",
          "Nazi Germany",
          "Democratic Republic of the Congo",
          "Republic of Macedonia",
          "Uruguay",
          "Socialist Federal Republic of Yugoslavia",
          "Serbia and Montenegro",
          "Georgia",
          "Mali",
          "Iraq",
          "Lithuania",
          "Kenya",
          "United Arab Emirates",
          "Armenia",
          "Kingdom of Great Britain",
          "Cameroon",
          "Bolivia",
          "Afghanistan",
          "Federal Republic of Yugoslavia",
          "Georgian SSR",
          "Jamaica",
          "Ethiopia",
          "Palestinian territories",
          "Mandatory Palestine",
          "Slovak Republic",
          "Uzbek SSR",
          "Wales",
          "Zimbabwe",
          "Panama",
          "Uzbekistan",
          "Costa Rica",
          "Malta",
          "Northern Ireland",
          "Montenegro",
          "Kingdom of Italy",
          "Monaco",
          "Cyprus",
          "Mongolia",
          "Congo",
          "Ukrainian SSR",
          "Guinea",
          "Libya",
          "Bahamas",
          "Haiti",
          "Kuwait",
          "Bhutan",
          "Aruba",
          "Bahrain",
          "Qatar",
          "Zambia",
          "Isle of Man",
          "Soviet occupation zone",
          "Jordan",
          "Malayalam Language",
          "Iraqi Kurdistan",
          "Turkmenistan",
          "Guinea-Bissau",
          "Crime",
          "Republic of China",
          "Macau",
          "Palestinian Territories",
          "German Language",
          "Ukranian SSR"
         ],
         "type": "choropleth",
         "z": [
          39.80610604009764,
          9.730561436388667,
          9.102372771549879,
          5.084510464026654,
          3.6592278948159973,
          3.0622751304388065,
          2.931547102581011,
          2.7684262890593367,
          1.6983074769490625,
          1.4345376508289083,
          1.314221589791645,
          1.2887701153414546,
          1.026157174423582,
          1.0064901259847985,
          0.9717835699163572,
          0.7600735778988651,
          0.7485047258760513,
          0.7461909554714885,
          0.7056999733916404,
          0.6524832540866969,
          0.4500283436874559,
          0.4419301472714863,
          0.4349888360577979,
          0.41647867282129597,
          0.4106942468098891,
          0.39912539478707526,
          0.39912539478707526,
          0.3759876907414477,
          0.3725170351346036,
          0.3540068718981016,
          0.34475179027985053,
          0.33202605305475535,
          0.3239278566387857,
          0.3088883490091278,
          0.2857506449635003,
          0.27765244854753063,
          0.27186802253612374,
          0.24873031849049618,
          0.24410277768137068,
          0.2417890072768079,
          0.24063212207452653,
          0.23137704045627555,
          0.22212195883802452,
          0.21865130323118037,
          0.20361179560152246,
          0.19319982878099007,
          0.17931720635361353,
          0.1770034359490508,
          0.1608070431171115,
          0.14345376508289082,
          0.12262983144182603,
          0.12147294623954465,
          0.10990409421673088,
          0.10874720901444948,
          0.09255081618251021,
          0.08792327537338471,
          0.08676639017110331,
          0.08213884936197781,
          0.07866819375513368,
          0.06941311213688266,
          0.06594245653003852,
          0.06362868612547577,
          0.059001145316350256,
          0.059001145316350256,
          0.052059834102661996,
          0.04974606369809924,
          0.04974606369809924,
          0.04743229329353648,
          0.04280475248441097,
          0.04049098207984821,
          0.04049098207984821,
          0.04049098207984821,
          0.03817721167528546,
          0.037020326473004087,
          0.035863441270722704,
          0.03470655606844133,
          0.03470655606844133,
          0.03354967086615995,
          0.03239278566387857,
          0.030079015259315816,
          0.030079015259315816,
          0.028922130057034444,
          0.028922130057034444,
          0.028922130057034444,
          0.027765244854753065,
          0.026608359652471686,
          0.02429458924790893,
          0.02429458924790893,
          0.023137704045627552,
          0.021980818843346177,
          0.021980818843346177,
          0.021980818843346177,
          0.021980818843346177,
          0.020823933641064798,
          0.020823933641064798,
          0.01966704843878342,
          0.018510163236502043,
          0.018510163236502043,
          0.018510163236502043,
          0.017353278034220664,
          0.017353278034220664,
          0.017353278034220664,
          0.015039507629657908,
          0.013882622427376532,
          0.012725737225095153,
          0.011568852022813776,
          0.011568852022813776,
          0.010411966820532399,
          0.010411966820532399,
          0.009255081618251022,
          0.009255081618251022,
          0.009255081618251022,
          0.008098196415969643,
          0.008098196415969643,
          0.006941311213688266,
          0.006941311213688266,
          0.005784426011406888,
          0.005784426011406888,
          0.005784426011406888,
          0.005784426011406888,
          0.005784426011406888,
          0.005784426011406888,
          0.004627540809125511,
          0.004627540809125511,
          0.004627540809125511,
          0.004627540809125511,
          0.004627540809125511,
          0.004627540809125511,
          0.004627540809125511,
          0.004627540809125511,
          0.003470655606844133,
          0.003470655606844133,
          0.003470655606844133,
          0.003470655606844133,
          0.003470655606844133,
          0.0023137704045627554,
          0.0023137704045627554,
          0.0023137704045627554,
          0.0011568852022813777,
          0.0011568852022813777,
          0.0011568852022813777,
          0.0011568852022813777,
          0.0011568852022813777,
          0.0011568852022813777,
          0.0011568852022813777,
          0.0011568852022813777,
          0.0011568852022813777
         ]
        }
       ],
       "layout": {
        "geo": {
         "lakecolor": "rgb(0,191,255)",
         "projection": {
          "type": "robinson"
         },
         "showlakes": false
        },
        "template": {
         "data": {
          "bar": [
           {
            "error_x": {
             "color": "#2a3f5f"
            },
            "error_y": {
             "color": "#2a3f5f"
            },
            "marker": {
             "line": {
              "color": "#E5ECF6",
              "width": 0.5
             },
             "pattern": {
              "fillmode": "overlay",
              "size": 10,
              "solidity": 0.2
             }
            },
            "type": "bar"
           }
          ],
          "barpolar": [
           {
            "marker": {
             "line": {
              "color": "#E5ECF6",
              "width": 0.5
             },
             "pattern": {
              "fillmode": "overlay",
              "size": 10,
              "solidity": 0.2
             }
            },
            "type": "barpolar"
           }
          ],
          "carpet": [
           {
            "aaxis": {
             "endlinecolor": "#2a3f5f",
             "gridcolor": "white",
             "linecolor": "white",
             "minorgridcolor": "white",
             "startlinecolor": "#2a3f5f"
            },
            "baxis": {
             "endlinecolor": "#2a3f5f",
             "gridcolor": "white",
             "linecolor": "white",
             "minorgridcolor": "white",
             "startlinecolor": "#2a3f5f"
            },
            "type": "carpet"
           }
          ],
          "choropleth": [
           {
            "colorbar": {
             "outlinewidth": 0,
             "ticks": ""
            },
            "type": "choropleth"
           }
          ],
          "contour": [
           {
            "colorbar": {
             "outlinewidth": 0,
             "ticks": ""
            },
            "colorscale": [
             [
              0,
              "#0d0887"
             ],
             [
              0.1111111111111111,
              "#46039f"
             ],
             [
              0.2222222222222222,
              "#7201a8"
             ],
             [
              0.3333333333333333,
              "#9c179e"
             ],
             [
              0.4444444444444444,
              "#bd3786"
             ],
             [
              0.5555555555555556,
              "#d8576b"
             ],
             [
              0.6666666666666666,
              "#ed7953"
             ],
             [
              0.7777777777777778,
              "#fb9f3a"
             ],
             [
              0.8888888888888888,
              "#fdca26"
             ],
             [
              1,
              "#f0f921"
             ]
            ],
            "type": "contour"
           }
          ],
          "contourcarpet": [
           {
            "colorbar": {
             "outlinewidth": 0,
             "ticks": ""
            },
            "type": "contourcarpet"
           }
          ],
          "heatmap": [
           {
            "colorbar": {
             "outlinewidth": 0,
             "ticks": ""
            },
            "colorscale": [
             [
              0,
              "#0d0887"
             ],
             [
              0.1111111111111111,
              "#46039f"
             ],
             [
              0.2222222222222222,
              "#7201a8"
             ],
             [
              0.3333333333333333,
              "#9c179e"
             ],
             [
              0.4444444444444444,
              "#bd3786"
             ],
             [
              0.5555555555555556,
              "#d8576b"
             ],
             [
              0.6666666666666666,
              "#ed7953"
             ],
             [
              0.7777777777777778,
              "#fb9f3a"
             ],
             [
              0.8888888888888888,
              "#fdca26"
             ],
             [
              1,
              "#f0f921"
             ]
            ],
            "type": "heatmap"
           }
          ],
          "heatmapgl": [
           {
            "colorbar": {
             "outlinewidth": 0,
             "ticks": ""
            },
            "colorscale": [
             [
              0,
              "#0d0887"
             ],
             [
              0.1111111111111111,
              "#46039f"
             ],
             [
              0.2222222222222222,
              "#7201a8"
             ],
             [
              0.3333333333333333,
              "#9c179e"
             ],
             [
              0.4444444444444444,
              "#bd3786"
             ],
             [
              0.5555555555555556,
              "#d8576b"
             ],
             [
              0.6666666666666666,
              "#ed7953"
             ],
             [
              0.7777777777777778,
              "#fb9f3a"
             ],
             [
              0.8888888888888888,
              "#fdca26"
             ],
             [
              1,
              "#f0f921"
             ]
            ],
            "type": "heatmapgl"
           }
          ],
          "histogram": [
           {
            "marker": {
             "pattern": {
              "fillmode": "overlay",
              "size": 10,
              "solidity": 0.2
             }
            },
            "type": "histogram"
           }
          ],
          "histogram2d": [
           {
            "colorbar": {
             "outlinewidth": 0,
             "ticks": ""
            },
            "colorscale": [
             [
              0,
              "#0d0887"
             ],
             [
              0.1111111111111111,
              "#46039f"
             ],
             [
              0.2222222222222222,
              "#7201a8"
             ],
             [
              0.3333333333333333,
              "#9c179e"
             ],
             [
              0.4444444444444444,
              "#bd3786"
             ],
             [
              0.5555555555555556,
              "#d8576b"
             ],
             [
              0.6666666666666666,
              "#ed7953"
             ],
             [
              0.7777777777777778,
              "#fb9f3a"
             ],
             [
              0.8888888888888888,
              "#fdca26"
             ],
             [
              1,
              "#f0f921"
             ]
            ],
            "type": "histogram2d"
           }
          ],
          "histogram2dcontour": [
           {
            "colorbar": {
             "outlinewidth": 0,
             "ticks": ""
            },
            "colorscale": [
             [
              0,
              "#0d0887"
             ],
             [
              0.1111111111111111,
              "#46039f"
             ],
             [
              0.2222222222222222,
              "#7201a8"
             ],
             [
              0.3333333333333333,
              "#9c179e"
             ],
             [
              0.4444444444444444,
              "#bd3786"
             ],
             [
              0.5555555555555556,
              "#d8576b"
             ],
             [
              0.6666666666666666,
              "#ed7953"
             ],
             [
              0.7777777777777778,
              "#fb9f3a"
             ],
             [
              0.8888888888888888,
              "#fdca26"
             ],
             [
              1,
              "#f0f921"
             ]
            ],
            "type": "histogram2dcontour"
           }
          ],
          "mesh3d": [
           {
            "colorbar": {
             "outlinewidth": 0,
             "ticks": ""
            },
            "type": "mesh3d"
           }
          ],
          "parcoords": [
           {
            "line": {
             "colorbar": {
              "outlinewidth": 0,
              "ticks": ""
             }
            },
            "type": "parcoords"
           }
          ],
          "pie": [
           {
            "automargin": true,
            "type": "pie"
           }
          ],
          "scatter": [
           {
            "fillpattern": {
             "fillmode": "overlay",
             "size": 10,
             "solidity": 0.2
            },
            "type": "scatter"
           }
          ],
          "scatter3d": [
           {
            "line": {
             "colorbar": {
              "outlinewidth": 0,
              "ticks": ""
             }
            },
            "marker": {
             "colorbar": {
              "outlinewidth": 0,
              "ticks": ""
             }
            },
            "type": "scatter3d"
           }
          ],
          "scattercarpet": [
           {
            "marker": {
             "colorbar": {
              "outlinewidth": 0,
              "ticks": ""
             }
            },
            "type": "scattercarpet"
           }
          ],
          "scattergeo": [
           {
            "marker": {
             "colorbar": {
              "outlinewidth": 0,
              "ticks": ""
             }
            },
            "type": "scattergeo"
           }
          ],
          "scattergl": [
           {
            "marker": {
             "colorbar": {
              "outlinewidth": 0,
              "ticks": ""
             }
            },
            "type": "scattergl"
           }
          ],
          "scattermapbox": [
           {
            "marker": {
             "colorbar": {
              "outlinewidth": 0,
              "ticks": ""
             }
            },
            "type": "scattermapbox"
           }
          ],
          "scatterpolar": [
           {
            "marker": {
             "colorbar": {
              "outlinewidth": 0,
              "ticks": ""
             }
            },
            "type": "scatterpolar"
           }
          ],
          "scatterpolargl": [
           {
            "marker": {
             "colorbar": {
              "outlinewidth": 0,
              "ticks": ""
             }
            },
            "type": "scatterpolargl"
           }
          ],
          "scatterternary": [
           {
            "marker": {
             "colorbar": {
              "outlinewidth": 0,
              "ticks": ""
             }
            },
            "type": "scatterternary"
           }
          ],
          "surface": [
           {
            "colorbar": {
             "outlinewidth": 0,
             "ticks": ""
            },
            "colorscale": [
             [
              0,
              "#0d0887"
             ],
             [
              0.1111111111111111,
              "#46039f"
             ],
             [
              0.2222222222222222,
              "#7201a8"
             ],
             [
              0.3333333333333333,
              "#9c179e"
             ],
             [
              0.4444444444444444,
              "#bd3786"
             ],
             [
              0.5555555555555556,
              "#d8576b"
             ],
             [
              0.6666666666666666,
              "#ed7953"
             ],
             [
              0.7777777777777778,
              "#fb9f3a"
             ],
             [
              0.8888888888888888,
              "#fdca26"
             ],
             [
              1,
              "#f0f921"
             ]
            ],
            "type": "surface"
           }
          ],
          "table": [
           {
            "cells": {
             "fill": {
              "color": "#EBF0F8"
             },
             "line": {
              "color": "white"
             }
            },
            "header": {
             "fill": {
              "color": "#C8D4E3"
             },
             "line": {
              "color": "white"
             }
            },
            "type": "table"
           }
          ]
         },
         "layout": {
          "annotationdefaults": {
           "arrowcolor": "#2a3f5f",
           "arrowhead": 0,
           "arrowwidth": 1
          },
          "autotypenumbers": "strict",
          "coloraxis": {
           "colorbar": {
            "outlinewidth": 0,
            "ticks": ""
           }
          },
          "colorscale": {
           "diverging": [
            [
             0,
             "#8e0152"
            ],
            [
             0.1,
             "#c51b7d"
            ],
            [
             0.2,
             "#de77ae"
            ],
            [
             0.3,
             "#f1b6da"
            ],
            [
             0.4,
             "#fde0ef"
            ],
            [
             0.5,
             "#f7f7f7"
            ],
            [
             0.6,
             "#e6f5d0"
            ],
            [
             0.7,
             "#b8e186"
            ],
            [
             0.8,
             "#7fbc41"
            ],
            [
             0.9,
             "#4d9221"
            ],
            [
             1,
             "#276419"
            ]
           ],
           "sequential": [
            [
             0,
             "#0d0887"
            ],
            [
             0.1111111111111111,
             "#46039f"
            ],
            [
             0.2222222222222222,
             "#7201a8"
            ],
            [
             0.3333333333333333,
             "#9c179e"
            ],
            [
             0.4444444444444444,
             "#bd3786"
            ],
            [
             0.5555555555555556,
             "#d8576b"
            ],
            [
             0.6666666666666666,
             "#ed7953"
            ],
            [
             0.7777777777777778,
             "#fb9f3a"
            ],
            [
             0.8888888888888888,
             "#fdca26"
            ],
            [
             1,
             "#f0f921"
            ]
           ],
           "sequentialminus": [
            [
             0,
             "#0d0887"
            ],
            [
             0.1111111111111111,
             "#46039f"
            ],
            [
             0.2222222222222222,
             "#7201a8"
            ],
            [
             0.3333333333333333,
             "#9c179e"
            ],
            [
             0.4444444444444444,
             "#bd3786"
            ],
            [
             0.5555555555555556,
             "#d8576b"
            ],
            [
             0.6666666666666666,
             "#ed7953"
            ],
            [
             0.7777777777777778,
             "#fb9f3a"
            ],
            [
             0.8888888888888888,
             "#fdca26"
            ],
            [
             1,
             "#f0f921"
            ]
           ]
          },
          "colorway": [
           "#636efa",
           "#EF553B",
           "#00cc96",
           "#ab63fa",
           "#FFA15A",
           "#19d3f3",
           "#FF6692",
           "#B6E880",
           "#FF97FF",
           "#FECB52"
          ],
          "font": {
           "color": "#2a3f5f"
          },
          "geo": {
           "bgcolor": "white",
           "lakecolor": "white",
           "landcolor": "#E5ECF6",
           "showlakes": true,
           "showland": true,
           "subunitcolor": "white"
          },
          "hoverlabel": {
           "align": "left"
          },
          "hovermode": "closest",
          "mapbox": {
           "style": "light"
          },
          "paper_bgcolor": "white",
          "plot_bgcolor": "#E5ECF6",
          "polar": {
           "angularaxis": {
            "gridcolor": "white",
            "linecolor": "white",
            "ticks": ""
           },
           "bgcolor": "#E5ECF6",
           "radialaxis": {
            "gridcolor": "white",
            "linecolor": "white",
            "ticks": ""
           }
          },
          "scene": {
           "xaxis": {
            "backgroundcolor": "#E5ECF6",
            "gridcolor": "white",
            "gridwidth": 2,
            "linecolor": "white",
            "showbackground": true,
            "ticks": "",
            "zerolinecolor": "white"
           },
           "yaxis": {
            "backgroundcolor": "#E5ECF6",
            "gridcolor": "white",
            "gridwidth": 2,
            "linecolor": "white",
            "showbackground": true,
            "ticks": "",
            "zerolinecolor": "white"
           },
           "zaxis": {
            "backgroundcolor": "#E5ECF6",
            "gridcolor": "white",
            "gridwidth": 2,
            "linecolor": "white",
            "showbackground": true,
            "ticks": "",
            "zerolinecolor": "white"
           }
          },
          "shapedefaults": {
           "line": {
            "color": "#2a3f5f"
           }
          },
          "ternary": {
           "aaxis": {
            "gridcolor": "white",
            "linecolor": "white",
            "ticks": ""
           },
           "baxis": {
            "gridcolor": "white",
            "linecolor": "white",
            "ticks": ""
           },
           "bgcolor": "#E5ECF6",
           "caxis": {
            "gridcolor": "white",
            "linecolor": "white",
            "ticks": ""
           }
          },
          "title": {
           "x": 0.05
          },
          "xaxis": {
           "automargin": true,
           "gridcolor": "white",
           "linecolor": "white",
           "ticks": "",
           "title": {
            "standoff": 15
           },
           "zerolinecolor": "white",
           "zerolinewidth": 2
          },
          "yaxis": {
           "automargin": true,
           "gridcolor": "white",
           "linecolor": "white",
           "ticks": "",
           "title": {
            "standoff": 15
           },
           "zerolinecolor": "white",
           "zerolinewidth": 2
          }
         }
        },
        "title": {
         "text": "Percentage of movies in the dataset - robinson projection"
        }
       }
      }
     },
     "metadata": {},
     "output_type": "display_data"
    }
   ],
   "source": [
    "### Plot numbers of movie on the world\n",
    "\n",
    "#Initialisation of country converter to iso-3\n",
    "cc = coco.CountryConverter()\n",
    "\n",
    "#Convert country name to ISO3\n",
    "df_tmp = Movie_by_country.copy()\n",
    "some_countries = pd.Series(df_tmp['Country'])\n",
    "iso3_codes = cc.pandas_convert(some_countries, to='ISO3') #convert the name of the country to ISO3  \n",
    "df_tmp.insert(1,\"code\",iso3_codes) #add a code column corresponding to ISO3 abreviation of the country\n",
    "\n",
    "#Plot \n",
    "data = dict(type='choropleth', colorscale = colorscale,\n",
    "           locations = df_tmp['code'], \n",
    "           z = df_tmp['Percent'], \n",
    "           text = df_tmp['Country'])\n",
    "\n",
    "layout = dict(title = 'Percentage of movies in the dataset - robinson projection',\n",
    "              geo = dict( projection = {'type':'robinson'},\n",
    "                         showlakes = False, \n",
    "                         lakecolor = 'rgb(0,191,255)'))\n",
    "x = pg.Figure(data = [data], \n",
    "              layout = layout)\n",
    "po.iplot(x)  #interactive image\n",
    "\n",
    "#x.write_image(\"img/world_map.png\", engine=\"kaleido\")\n",
    "#Image(\"img/world_map.png\")"
   ]
  },
  {
   "attachments": {},
   "cell_type": "markdown",
   "metadata": {},
   "source": [
    "#### 2.2.1.2. Characters gender analysis by country"
   ]
  },
  {
   "cell_type": "code",
   "execution_count": null,
   "metadata": {},
   "outputs": [],
   "source": []
  },
  {
   "attachments": {},
   "cell_type": "markdown",
   "metadata": {},
   "source": [
    "### 2.2.2. USA"
   ]
  },
  {
   "cell_type": "code",
   "execution_count": null,
   "metadata": {},
   "outputs": [],
   "source": []
  },
  {
   "attachments": {},
   "cell_type": "markdown",
   "metadata": {},
   "source": [
    "#### 2.2.2.1. Movies analysis by decade"
   ]
  },
  {
   "cell_type": "code",
   "execution_count": null,
   "metadata": {},
   "outputs": [],
   "source": []
  },
  {
   "attachments": {},
   "cell_type": "markdown",
   "metadata": {},
   "source": [
    "#### 2.2.2.2. Movies analysis by genre"
   ]
  },
  {
   "cell_type": "code",
   "execution_count": null,
   "metadata": {},
   "outputs": [],
   "source": []
  },
  {
   "attachments": {},
   "cell_type": "markdown",
   "metadata": {},
   "source": [
    "### 2.2.3. Characters"
   ]
  },
  {
   "cell_type": "code",
   "execution_count": null,
   "metadata": {},
   "outputs": [],
   "source": []
  },
  {
   "attachments": {},
   "cell_type": "markdown",
   "metadata": {},
   "source": [
    "#### 2.2.3.1. Distribution of man/woman characters"
   ]
  },
  {
   "cell_type": "code",
   "execution_count": null,
   "metadata": {},
   "outputs": [],
   "source": []
  },
  {
   "attachments": {},
   "cell_type": "markdown",
   "metadata": {},
   "source": [
    "#### 2.2.3.2. Representations of gender"
   ]
  },
  {
   "cell_type": "code",
   "execution_count": null,
   "metadata": {},
   "outputs": [],
   "source": []
  },
  {
   "attachments": {},
   "cell_type": "markdown",
   "metadata": {},
   "source": [
    "## 2.3. Data enrichment"
   ]
  },
  {
   "cell_type": "markdown",
   "metadata": {},
   "source": []
  },
  {
   "attachments": {},
   "cell_type": "markdown",
   "metadata": {},
   "source": [
    "### 2.3.1. Wikidata"
   ]
  },
  {
   "cell_type": "markdown",
   "metadata": {},
   "source": []
  },
  {
   "attachments": {},
   "cell_type": "markdown",
   "metadata": {},
   "source": [
    "#### 2.3.1.1. Wikidata_ID to Wikipedia_ID"
   ]
  },
  {
   "cell_type": "code",
   "execution_count": null,
   "metadata": {},
   "outputs": [],
   "source": []
  },
  {
   "attachments": {},
   "cell_type": "markdown",
   "metadata": {},
   "source": [
    "#### 2.3.1.2. Review scores"
   ]
  },
  {
   "cell_type": "code",
   "execution_count": null,
   "metadata": {},
   "outputs": [],
   "source": []
  },
  {
   "attachments": {},
   "cell_type": "markdown",
   "metadata": {},
   "source": [
    "### 2.3.2. NLP analysis with Spacy"
   ]
  },
  {
   "cell_type": "code",
   "execution_count": null,
   "metadata": {},
   "outputs": [],
   "source": []
  },
  {
   "attachments": {},
   "cell_type": "markdown",
   "metadata": {},
   "source": [
    "## 2.4. Data combination"
   ]
  },
  {
   "cell_type": "markdown",
   "metadata": {},
   "source": []
  },
  {
   "attachments": {},
   "cell_type": "markdown",
   "metadata": {},
   "source": [
    "### 2.4.1. Characters data"
   ]
  },
  {
   "cell_type": "code",
   "execution_count": null,
   "metadata": {},
   "outputs": [],
   "source": []
  },
  {
   "attachments": {},
   "cell_type": "markdown",
   "metadata": {},
   "source": [
    "### 2.4.2. Movies data"
   ]
  },
  {
   "cell_type": "code",
   "execution_count": null,
   "metadata": {},
   "outputs": [],
   "source": []
  },
  {
   "attachments": {},
   "cell_type": "markdown",
   "metadata": {},
   "source": [
    "### 2.4.3. Summaries data"
   ]
  },
  {
   "cell_type": "code",
   "execution_count": null,
   "metadata": {},
   "outputs": [],
   "source": []
  },
  {
   "attachments": {},
   "cell_type": "markdown",
   "metadata": {},
   "source": [
    "# 3. Data analysis"
   ]
  },
  {
   "attachments": {},
   "cell_type": "markdown",
   "metadata": {},
   "source": [
    "## 3.1. Summaries analysis"
   ]
  },
  {
   "attachments": {},
   "cell_type": "markdown",
   "metadata": {},
   "source": [
    "### 3.1.1. Adjectives"
   ]
  },
  {
   "cell_type": "code",
   "execution_count": null,
   "metadata": {},
   "outputs": [],
   "source": []
  },
  {
   "attachments": {},
   "cell_type": "markdown",
   "metadata": {},
   "source": [
    "### 3.1.2. Verbs"
   ]
  },
  {
   "cell_type": "code",
   "execution_count": null,
   "metadata": {},
   "outputs": [],
   "source": []
  },
  {
   "attachments": {},
   "cell_type": "markdown",
   "metadata": {},
   "source": [
    "### 3.1.3. Attributes"
   ]
  },
  {
   "cell_type": "code",
   "execution_count": null,
   "metadata": {},
   "outputs": [],
   "source": []
  },
  {
   "attachments": {},
   "cell_type": "markdown",
   "metadata": {},
   "source": [
    "## 3.2. Lexical analysis"
   ]
  },
  {
   "attachments": {},
   "cell_type": "markdown",
   "metadata": {},
   "source": [
    "### 3.2.1. Empath"
   ]
  },
  {
   "cell_type": "code",
   "execution_count": null,
   "metadata": {},
   "outputs": [],
   "source": []
  },
  {
   "attachments": {},
   "cell_type": "markdown",
   "metadata": {},
   "source": [
    "### 3.2.2. Barlot lexical (all decades)"
   ]
  },
  {
   "cell_type": "code",
   "execution_count": null,
   "metadata": {},
   "outputs": [],
   "source": []
  },
  {
   "attachments": {},
   "cell_type": "markdown",
   "metadata": {},
   "source": [
    "### 3.2.3. Exploring the gender bias : Random Forest Model"
   ]
  },
  {
   "cell_type": "code",
   "execution_count": null,
   "metadata": {},
   "outputs": [],
   "source": []
  },
  {
   "attachments": {},
   "cell_type": "markdown",
   "metadata": {},
   "source": [
    "### 3.2.4. Evolution of lexical fields ove time"
   ]
  },
  {
   "cell_type": "code",
   "execution_count": null,
   "metadata": {},
   "outputs": [],
   "source": []
  },
  {
   "attachments": {},
   "cell_type": "markdown",
   "metadata": {},
   "source": [
    "### 3.2.5. Principal Component Analysis (PCA)"
   ]
  },
  {
   "cell_type": "code",
   "execution_count": null,
   "metadata": {},
   "outputs": [],
   "source": []
  },
  {
   "attachments": {},
   "cell_type": "markdown",
   "metadata": {},
   "source": [
    "## 3.3. Review scores analysis"
   ]
  },
  {
   "attachments": {},
   "cell_type": "markdown",
   "metadata": {},
   "source": [
    "### 3.3.1. Gender dependecy"
   ]
  },
  {
   "cell_type": "code",
   "execution_count": null,
   "metadata": {},
   "outputs": [],
   "source": []
  },
  {
   "attachments": {},
   "cell_type": "markdown",
   "metadata": {},
   "source": [
    "### 3.3.2. Man/woman count"
   ]
  },
  {
   "cell_type": "code",
   "execution_count": null,
   "metadata": {},
   "outputs": [],
   "source": []
  },
  {
   "attachments": {},
   "cell_type": "markdown",
   "metadata": {},
   "source": [
    "### 3.3.3. Analysis by movie genre"
   ]
  },
  {
   "cell_type": "code",
   "execution_count": null,
   "metadata": {},
   "outputs": [],
   "source": []
  },
  {
   "attachments": {},
   "cell_type": "markdown",
   "metadata": {},
   "source": [
    "# 4. Annexes"
   ]
  },
  {
   "attachments": {},
   "cell_type": "markdown",
   "metadata": {},
   "source": [
    "## 4.1. Table of content generation"
   ]
  },
  {
   "cell_type": "code",
   "execution_count": null,
   "metadata": {},
   "outputs": [],
   "source": [
    "import nbformat\n",
    "import pandas as pd\n",
    "\n",
    "# Load the .ipynb file\n",
    "with open('./P3_final.ipynb', 'r') as f:\n",
    "    notebook = nbformat.read(f, as_version=4)\n",
    "\n",
    "# Extract the markdown cells\n",
    "markdown_cells = [cell for cell in notebook['cells'] if cell['cell_type'] == 'markdown']\n",
    "\n",
    "def levelf (lev, niv):\n",
    "    i = lev[0:niv]\n",
    "    string = \"\"\n",
    "    for n in i:\n",
    "        string = string + str(n) + \".\"\n",
    "    string += \" \"\n",
    "    return string\n",
    "\n",
    "#Get all the markdown cells heading names and rename them with a sorted number and change the mardowns names in the notebook\n",
    "index = [0, 0, 0, 0, 0, 0]\n",
    "heading_corr = []\n",
    "for i in range(len(notebook['cells'])):\n",
    "    if notebook['cells'][i]['cell_type'] == 'markdown':\n",
    "        if ('###### ') in notebook['cells'][i]['source'][0:7]:\n",
    "            heading = notebook['cells'][i]['source']\n",
    "            index[5] += 1\n",
    "            level = levelf(index, 6)\n",
    "            notebook['cells'][i]['source'] = '###### ' + level + heading[heading.rfind(\". \"):][2:] if \". \" in heading else '###### ' + level + heading[7:]\n",
    "            head = level + heading[heading.rfind(\". \"):][2:] if \". \" in heading else level + heading[7:]\n",
    "            heading_corr.append([\"<a style='font-size:0.5em'>\" + head + \"</a>\", head, level])\n",
    "        elif ('##### ') in notebook['cells'][i]['source'][0:6]:\n",
    "            heading = notebook['cells'][i]['source']\n",
    "            index[4] += 1\n",
    "            index[5] = 0\n",
    "            level = levelf(index, 5)\n",
    "            notebook['cells'][i]['source'] = '##### ' + level + heading[heading.rfind(\". \"):][2:] if \". \" in heading else '##### ' + level + heading[6:]\n",
    "            head = level + heading[heading.rfind(\". \"):][2:] if \". \" in heading else level + heading[6:]\n",
    "            heading_corr.append([\"<a style='font-size:0.75em'>\" + head + \"</a>\", head, level])\n",
    "        elif ('#### ') in notebook['cells'][i]['source'][0:5]:\n",
    "            heading = notebook['cells'][i]['source']\n",
    "            index[3] += 1\n",
    "            index[4] = 0\n",
    "            index[5] = 0\n",
    "            level = levelf(index, 4)\n",
    "            notebook['cells'][i]['source'] = '#### ' + level + heading[heading.rfind(\". \"):][2:] if \". \" in heading else '#### ' + level + heading[5:]\n",
    "            head = level + heading[heading.rfind(\". \"):][2:] if \". \" in heading else level + heading[5:]\n",
    "            heading_corr.append([\"<a style='font-size:1.25em'>\" + head + \"</a>\", head, level])\n",
    "        elif ('### ') in notebook['cells'][i]['source'][0:4]:\n",
    "            heading = notebook['cells'][i]['source']\n",
    "            index[2] += 1\n",
    "            index[3] = 0\n",
    "            index[4] = 0\n",
    "            index[5] = 0\n",
    "            level = levelf(index, 3)\n",
    "            notebook['cells'][i]['source'] = '### ' + level + heading[heading.rfind(\". \"):][2:] if \". \" in heading else '### ' + level + heading[4:]\n",
    "            head = level + heading[heading.rfind(\". \"):][2:] if \". \" in heading else level + heading[4:]\n",
    "            heading_corr.append([\"<a style='font-size:1.5em'>\" + head + \"</a>\", head, level])\n",
    "        elif ('## ') in notebook['cells'][i]['source'][0:3]:\n",
    "            heading = notebook['cells'][i]['source']\n",
    "            index[1] += 1\n",
    "            index[2] = 0\n",
    "            index[3] = 0\n",
    "            index[4] = 0\n",
    "            index[5] = 0\n",
    "            level = levelf(index, 2)\n",
    "            notebook['cells'][i]['source'] = '## ' + level + heading[heading.rfind(\". \"):][2:] if \". \" in heading else '## ' + level + heading[3:]\n",
    "            head = level + heading[heading.rfind(\". \"):][2:] if \". \" in heading else level + heading[3:]\n",
    "            heading_corr.append([\"<a style='font-size:1.75em'>\" + head + \"</a>\", head, level])\n",
    "        elif ('# ') in notebook['cells'][i]['source'][0:2]:\n",
    "            heading = notebook['cells'][i]['source']\n",
    "            index[0] += 1\n",
    "            index[1] = 0\n",
    "            index[2] = 0\n",
    "            index[3] = 0\n",
    "            index[4] = 0\n",
    "            index[5] = 0\n",
    "            level = levelf(index, 1)\n",
    "            notebook['cells'][i]['source'] = '# ' + level + heading[heading.rfind(\". \"):][2:] if \". \" in heading else '# ' + level + heading[2:]\n",
    "            head = level + heading[heading.rfind(\". \"):][2:] if \". \" in heading else level + heading[2:]\n",
    "            heading_corr.append([\"<a style='font-size:2em'>\" + head + \"</a>\", head, level])\n",
    "\n",
    "# Combine lists\n",
    "heading_corr\n",
    "tab = \"&emsp;\"\n",
    "\n",
    "# Generate the table of contents\n",
    "toc = '\\n'.join(f'{int(len(level)-3)*2*tab}[{ref}](#{ref.lower().replace(\" \", \"-\")})  ' for heading, ref, level in heading_corr) #\n",
    "\n",
    "# Write the updated notebook to disk\n",
    "with open('./P3_final.ipynb', 'w') as f:\n",
    "    nbformat.write(notebook, f)"
   ]
  },
  {
   "cell_type": "code",
   "execution_count": null,
   "metadata": {},
   "outputs": [],
   "source": [
    "# Print the table of contents\n",
    "print(toc)"
   ]
  },
  {
   "cell_type": "code",
   "execution_count": null,
   "metadata": {},
   "outputs": [],
   "source": []
  }
 ],
 "metadata": {
  "kernelspec": {
   "display_name": "ADA_3.10",
   "language": "python",
   "name": "python3"
  },
  "language_info": {
   "codemirror_mode": {
    "name": "ipython",
    "version": 3
   },
   "file_extension": ".py",
   "mimetype": "text/x-python",
   "name": "python",
   "nbconvert_exporter": "python",
   "pygments_lexer": "ipython3",
   "version": "3.10.8"
  },
  "vscode": {
   "interpreter": {
    "hash": "abc6c371a35b3ef5c25342ec1112fba0eb3a30cabc1855d8879178f3a97ef8cb"
   }
  }
 },
 "nbformat": 4,
 "nbformat_minor": 2
}
