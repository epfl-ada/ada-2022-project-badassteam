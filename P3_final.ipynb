{
 "cells": [
  {
   "attachments": {},
   "cell_type": "markdown",
   "metadata": {},
   "source": [
    "# Introduction"
   ]
  },
  {
   "attachments": {},
   "cell_type": "markdown",
   "metadata": {},
   "source": [
    "1. [Introduction](#the_destination)\n",
    "2. [Title 1](#title-1)\n",
    "\t1. [Subtitle 1](#subtitle-1)\n",
    "\t\t1. [Subsubtitle 1](#subsubtitle-1)\n",
    "\t\t\t1. [Subsubsubtitle 1](#subsubsubtitle-1)\n",
    "\t\t\t\t1. [ Subsubsubsubtitle 1](#-subsubsubsubtitle-1)\n",
    "\t\t\t\t\t1. [Subsubsubsubsubtitle 1](#subsubsubsubsubtitle-1)\n",
    "3. [Title 2](#title-2)\n",
    "\t1. [Subtitle 2](#subtitle-2)\n",
    "\t2. [Subtitle 3](#subtitle-3)\n",
    "\t\t1. [Subsubtitle 3](#subsubtitle-3)"
   ]
  },
  {
   "attachments": {},
   "cell_type": "markdown",
   "metadata": {},
   "source": [
    "<a href=\"https://github.com/epfl-ada/ada-2022-project-badassteam/P3_final.ipynb/#the_destination\">Introduction</a>"
   ]
  },
  {
   "attachments": {},
   "cell_type": "markdown",
   "metadata": {},
   "source": [
    "<a id='the_destination'>Title 1</a>"
   ]
  },
  {
   "attachments": {},
   "cell_type": "markdown",
   "metadata": {},
   "source": [
    "## Subtitle 1"
   ]
  },
  {
   "attachments": {},
   "cell_type": "markdown",
   "metadata": {},
   "source": [
    "### Subsubtitle 1"
   ]
  },
  {
   "attachments": {},
   "cell_type": "markdown",
   "metadata": {},
   "source": [
    "#### Subsubsubtitle 1"
   ]
  },
  {
   "attachments": {},
   "cell_type": "markdown",
   "metadata": {},
   "source": [
    "#####  Subsubsubsubtitle 1"
   ]
  },
  {
   "attachments": {},
   "cell_type": "markdown",
   "metadata": {},
   "source": [
    "###### Subsubsubsubsubtitle 1"
   ]
  },
  {
   "attachments": {},
   "cell_type": "markdown",
   "metadata": {},
   "source": [
    "# Title 2"
   ]
  },
  {
   "attachments": {},
   "cell_type": "markdown",
   "metadata": {},
   "source": [
    "## Subtitle 2"
   ]
  },
  {
   "attachments": {},
   "cell_type": "markdown",
   "metadata": {},
   "source": [
    "## Subtitle 3"
   ]
  },
  {
   "attachments": {},
   "cell_type": "markdown",
   "metadata": {},
   "source": [
    "### Subsubtitle 3"
   ]
  },
  {
   "cell_type": "code",
   "execution_count": 173,
   "metadata": {},
   "outputs": [
    {
     "name": "stdout",
     "output_type": "stream",
     "text": [
      "1. [Introduction](#introduction)\n",
      "2. [Title 1](#title-1)\n",
      "\t1. [Subtitle 1](#subtitle-1)\n",
      "\t\t1. [Subsubtitle 1](#subsubtitle-1)\n",
      "\t\t\t1. [Subsubsubtitle 1](#subsubsubtitle-1)\n",
      "\t\t\t\t1. [ Subsubsubsubtitle 1](#-subsubsubsubtitle-1)\n",
      "\t\t\t\t\t1. [Subsubsubsubsubtitle 1](#subsubsubsubsubtitle-1)\n",
      "3. [Title 2](#title-2)\n",
      "\t1. [Subtitle 2](#subtitle-2)\n",
      "\t2. [Subtitle 3](#subtitle-3)\n",
      "\t\t1. [Subsubtitle 3](#subsubtitle-3)\n"
     ]
    }
   ],
   "source": [
    "import nbformat\n",
    "import pandas as pd\n",
    "\n",
    "# Load the .ipynb file\n",
    "with open('./P3_final.ipynb', 'r') as f:\n",
    "    notebook = nbformat.read(f, as_version=4)\n",
    "\n",
    "# Extract the markdown cells\n",
    "markdown_cells = [cell for cell in notebook['cells'] if cell['cell_type'] == 'markdown']\n",
    "\n",
    "def levelf (lev, niv):\n",
    "    i = lev[0:niv]\n",
    "    string = \"\"\n",
    "    for n in i:\n",
    "        string = string + str(n) + \".\"\n",
    "    return string\n",
    "\n",
    "# Extract the headings from the markdown cells\n",
    "heading = pd.DataFrame(markdown_cells)['source']\n",
    "heading_corr = []\n",
    "level = []\n",
    "i = [0, 0, 0, 0, 0, 0]\n",
    "for heading in heading:\n",
    "        if ('###### ') in heading:\n",
    "            i[5] += 1\n",
    "            heading_corr.append([heading[7:], levelf(i, 6)])\n",
    "        elif ('##### ') in heading:\n",
    "            i[4] += 1\n",
    "            i[5] = 0\n",
    "            heading_corr.append([heading[6:], levelf(i, 5)])\n",
    "        elif ('#### ') in heading:\n",
    "            i[3] += 1\n",
    "            i[4] = 0\n",
    "            i[5] = 0\n",
    "            heading_corr.append([heading[5:], levelf(i, 4)])\n",
    "        elif ('### ') in heading:\n",
    "            i[2] += 1\n",
    "            i[3] = 0\n",
    "            i[4] = 0\n",
    "            i[5] = 0\n",
    "            heading_corr.append([heading[4:], levelf(i, 3)])\n",
    "        elif ('## ') in heading:\n",
    "            i[1] += 1\n",
    "            i[2] = 0\n",
    "            i[3] = 0\n",
    "            i[4] = 0\n",
    "            i[5] = 0\n",
    "            heading_corr.append([heading[3:], levelf(i, 2)])\n",
    "        elif ('# ') in heading:\n",
    "            i[0] += 1\n",
    "            i[1] = 0\n",
    "            i[2] = 0\n",
    "            i[3] = 0\n",
    "            i[4] = 0\n",
    "            i[5] = 0\n",
    "            heading_corr.append([heading[2:], levelf(i, 1)])\n",
    "\n",
    "# Combine lists\n",
    "heading_corr\n",
    "tab = \"\\t\"\n",
    "\n",
    "# Generate the table of contents\n",
    "toc = '\\n'.join(f'{int(len(level)/2-1)*tab}{level[-2:]} [{heading}](#{heading.lower().replace(\" \", \"-\")})' for heading, level in heading_corr)\n",
    "\n",
    "# Print the table of contents\n",
    "print(toc)"
   ]
  },
  {
   "cell_type": "code",
   "execution_count": null,
   "metadata": {},
   "outputs": [],
   "source": []
  }
 ],
 "metadata": {
  "kernelspec": {
   "display_name": "ADA_3.10",
   "language": "python",
   "name": "python3"
  },
  "language_info": {
   "codemirror_mode": {
    "name": "ipython",
    "version": 3
   },
   "file_extension": ".py",
   "mimetype": "text/x-python",
   "name": "python",
   "nbconvert_exporter": "python",
   "pygments_lexer": "ipython3",
   "version": "3.10.8"
  },
  "orig_nbformat": 4,
  "vscode": {
   "interpreter": {
    "hash": "abc6c371a35b3ef5c25342ec1112fba0eb3a30cabc1855d8879178f3a97ef8cb"
   }
  }
 },
 "nbformat": 4,
 "nbformat_minor": 2
}
