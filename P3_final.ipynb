{
 "cells": [
  {
   "attachments": {},
   "cell_type": "markdown",
   "metadata": {},
   "source": [
    "# Introduction"
   ]
  },
  {
   "attachments": {},
   "cell_type": "markdown",
   "metadata": {},
   "source": [
    "1. [Introduction](#the_destination)\n",
    "2. [Title 1](#title-1)\n",
    "\t1. [Subtitle 1](#subtitle-1)\n",
    "\t\t1. [Subsubtitle 1](#subsubtitle-1)\n",
    "\t\t\t1. [Subsubsubtitle 1](#subsubsubtitle-1)\n",
    "\t\t\t\t1. [ Subsubsubsubtitle 1](#-subsubsubsubtitle-1)\n",
    "\t\t\t\t\t1. [Subsubsubsubsubtitle 1](#subsubsubsubsubtitle-1)\n",
    "3. [Title 2](#title-2)\n",
    "\t1. [Subtitle 2](#subtitle-2)\n",
    "\t2. [Subtitle 3](#subtitle-3)\n",
    "\t\t1. [Subsubtitle 3](#subsubtitle-3)"
   ]
  },
  {
   "attachments": {},
   "cell_type": "markdown",
   "metadata": {},
   "source": [
    "<a href='#the_destination'>Introduction</a>"
   ]
  },
  {
   "attachments": {},
   "cell_type": "markdown",
   "metadata": {},
   "source": [
    "<a id='https://github.com/epfl-ada/ada-2022-project-badassteam/blob/9073c8f6a968e42e7c8a6536b916a1a22ee4beca//#the_destination'>Title 1</a>"
   ]
  },
  {
   "attachments": {},
   "cell_type": "markdown",
   "metadata": {},
   "source": [
    "## Subtitle 1"
   ]
  },
  {
   "attachments": {},
   "cell_type": "markdown",
   "metadata": {},
   "source": [
    "### Subsubtitle 1"
   ]
  },
  {
   "attachments": {},
   "cell_type": "markdown",
   "metadata": {},
   "source": [
    "#### Subsubsubtitle 1"
   ]
  },
  {
   "attachments": {},
   "cell_type": "markdown",
   "metadata": {},
   "source": [
    "#####  Subsubsubsubtitle 1"
   ]
  },
  {
   "attachments": {},
   "cell_type": "markdown",
   "metadata": {},
   "source": [
    "###### Subsubsubsubsubtitle 1"
   ]
  },
  {
   "attachments": {},
   "cell_type": "markdown",
   "metadata": {},
   "source": [
    "# Title 2"
   ]
  },
  {
   "attachments": {},
   "cell_type": "markdown",
   "metadata": {},
   "source": [
    "## Subtitle 2"
   ]
  },
  {
   "attachments": {},
   "cell_type": "markdown",
   "metadata": {},
   "source": [
    "## Subtitle 3"
   ]
  },
  {
   "attachments": {},
   "cell_type": "markdown",
   "metadata": {},
   "source": [
    "### Subsubtitle 3"
   ]
  },
  {
   "cell_type": "code",
   "execution_count": 173,
   "metadata": {},
   "outputs": [
    {
     "name": "stdout",
     "output_type": "stream",
     "text": [
      "1. [Introduction](#introduction)\n",
      "2. [Title 1](#title-1)\n",
      "\t1. [Subtitle 1](#subtitle-1)\n",
      "\t\t1. [Subsubtitle 1](#subsubtitle-1)\n",
      "\t\t\t1. [Subsubsubtitle 1](#subsubsubtitle-1)\n",
      "\t\t\t\t1. [ Subsubsubsubtitle 1](#-subsubsubsubtitle-1)\n",
      "\t\t\t\t\t1. [Subsubsubsubsubtitle 1](#subsubsubsubsubtitle-1)\n",
      "3. [Title 2](#title-2)\n",
      "\t1. [Subtitle 2](#subtitle-2)\n",
      "\t2. [Subtitle 3](#subtitle-3)\n",
      "\t\t1. [Subsubtitle 3](#subsubtitle-3)\n"
     ]
    }
   ],
   "source": [
    "import nbformat\n",
    "import pandas as pd\n",
    "\n",
    "# Load the .ipynb file\n",
    "with open('./P3_final.ipynb', 'r') as f:\n",
    "    notebook = nbformat.read(f, as_version=4)\n",
    "\n",
    "# Extract the markdown cells\n",
    "markdown_cells = [cell for cell in notebook['cells'] if cell['cell_type'] == 'markdown']\n",
    "\n",
    "def levelf (lev, niv):\n",
    "    i = lev[0:niv]\n",
    "    string = \"\"\n",
    "    for n in i:\n",
    "        string = string + str(n) + \".\"\n",
    "    return string\n",
    "\n",
    "# Extract the headings from the markdown cells\n",
    "heading = pd.DataFrame(markdown_cells)['source']\n",
    "heading_corr = []\n",
    "level = []\n",
    "i = [0, 0, 0, 0, 0, 0]\n",
    "for heading in heading:\n",
    "        if ('###### ') in heading:\n",
    "            i[5] += 1\n",
    "            heading_corr.append([heading[7:], levelf(i, 6)])\n",
    "        elif ('##### ') in heading:\n",
    "            i[4] += 1\n",
    "            i[5] = 0\n",
    "            heading_corr.append([heading[6:], levelf(i, 5)])\n",
    "        elif ('#### ') in heading:\n",
    "            i[3] += 1\n",
    "            i[4] = 0\n",
    "            i[5] = 0\n",
    "            heading_corr.append([heading[5:], levelf(i, 4)])\n",
    "        elif ('### ') in heading:\n",
    "            i[2] += 1\n",
    "            i[3] = 0\n",
    "            i[4] = 0\n",
    "            i[5] = 0\n",
    "            heading_corr.append([heading[4:], levelf(i, 3)])\n",
    "        elif ('## ') in heading:\n",
    "            i[1] += 1\n",
    "            i[2] = 0\n",
    "            i[3] = 0\n",
    "            i[4] = 0\n",
    "            i[5] = 0\n",
    "            heading_corr.append([heading[3:], levelf(i, 2)])\n",
    "        elif ('# ') in heading:\n",
    "            i[0] += 1\n",
    "            i[1] = 0\n",
    "            i[2] = 0\n",
    "            i[3] = 0\n",
    "            i[4] = 0\n",
    "            i[5] = 0\n",
    "            heading_corr.append([heading[2:], levelf(i, 1)])\n",
    "\n",
    "# Combine lists\n",
    "heading_corr\n",
    "tab = \"\\t\"\n",
    "\n",
    "# Generate the table of contents\n",
    "toc = '\\n'.join(f'{int(len(level)/2-1)*tab}{level[-2:]} [{heading}](#{heading.lower().replace(\" \", \"-\")})' for heading, level in heading_corr)\n",
    "\n",
    "# Print the table of contents\n",
    "print(toc)"
   ]
  },
  {
   "attachments": {},
   "cell_type": "markdown",
   "metadata": {},
   "source": [
    "#  Markdown Editor\n",
    "\n",
    "[StackEdit](https://stackedit.io) - _StackEdit’s Markdown syntax highlighting is unique. The refined text formatting of the editor helps you visualize the final rendering of your files._"
   ]
  },
  {
   "attachments": {},
   "cell_type": "markdown",
   "metadata": {},
   "source": [
    "[Markdown - Markdown editor](#-Markdown-Editor)\n"
   ]
  },
  {
   "cell_type": "markdown",
   "metadata": {},
   "source": []
  }
 ],
 "metadata": {
  "kernelspec": {
   "display_name": "Python 3",
   "language": "python",
   "name": "python3"
  },
  "language_info": {
   "codemirror_mode": {
    "name": "ipython",
    "version": 3
   },
   "file_extension": ".py",
   "mimetype": "text/x-python",
   "name": "python",
   "nbconvert_exporter": "python",
   "pygments_lexer": "ipython3",
   "version": "3.10.9 (tags/v3.10.9:1dd9be6, Dec  6 2022, 20:01:21) [MSC v.1934 64 bit (AMD64)]"
  },
  "orig_nbformat": 4,
  "vscode": {
   "interpreter": {
    "hash": "6ba82505c5b97ee5af649e1543e99327c3794e605f9ecc23216da1936483a554"
   }
  }
 },
 "nbformat": 4,
 "nbformat_minor": 2
}
