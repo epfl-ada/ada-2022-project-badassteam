{
 "cells": [
  {
   "cell_type": "markdown",
   "id": "ed2a6e3a",
   "metadata": {},
   "source": [
    "### Important librairies"
   ]
  },
  {
   "cell_type": "code",
   "execution_count": 53,
   "id": "6777b3e2",
   "metadata": {},
   "outputs": [],
   "source": [
    "#Imports\n",
    "import pandas as pd\n",
    "import numpy as np\n",
    "import os\n",
    "import matplotlib.pyplot as plt\n",
    "import seaborn as sns\n",
    "import networkx as nx\n",
    "import statsmodels.api as sm\n",
    "import statsmodels.formula.api as smf\n",
    "from lxml import objectify\n",
    "%matplotlib inline\n",
    "\n",
    "#Convert country name to ISO-3\n",
    "import country_converter as coco\n",
    "\n",
    "#World map plot librairies\n",
    "import plotly.offline as po\n",
    "import plotly.graph_objs as pg\n",
    "\n",
    "# Analysis of the lexical fields\n",
    "from empath import Empath \n",
    "\n",
    "#Warnings\n",
    "import warnings\n",
    "\n",
    "data_folder = './data/'"
   ]
  },
  {
   "cell_type": "markdown",
   "id": "036c6dd6",
   "metadata": {},
   "source": [
    "## 1) Data handling"
   ]
  },
  {
   "cell_type": "markdown",
   "id": "902c07ba",
   "metadata": {},
   "source": [
    "### Import of the dataset\n"
   ]
  },
  {
   "cell_type": "markdown",
   "id": "cc014694",
   "metadata": {},
   "source": [
    "#### Movie metadata"
   ]
  },
  {
   "cell_type": "code",
   "execution_count": 2,
   "id": "fdaa9605",
   "metadata": {},
   "outputs": [
    {
     "data": {
      "text/html": [
       "<div>\n",
       "<style scoped>\n",
       "    .dataframe tbody tr th:only-of-type {\n",
       "        vertical-align: middle;\n",
       "    }\n",
       "\n",
       "    .dataframe tbody tr th {\n",
       "        vertical-align: top;\n",
       "    }\n",
       "\n",
       "    .dataframe thead th {\n",
       "        text-align: right;\n",
       "    }\n",
       "</style>\n",
       "<table border=\"1\" class=\"dataframe\">\n",
       "  <thead>\n",
       "    <tr style=\"text-align: right;\">\n",
       "      <th></th>\n",
       "      <th>Wikipedia_movie_ID</th>\n",
       "      <th>Freebase_movie_ID</th>\n",
       "      <th>Movie_name</th>\n",
       "      <th>Movie_date</th>\n",
       "      <th>Movie_revenue</th>\n",
       "      <th>Movie_runtime</th>\n",
       "      <th>Movie_languages</th>\n",
       "      <th>Movie_countries</th>\n",
       "      <th>Movie_genres</th>\n",
       "    </tr>\n",
       "  </thead>\n",
       "  <tbody>\n",
       "    <tr>\n",
       "      <th>0</th>\n",
       "      <td>975900</td>\n",
       "      <td>/m/03vyhn</td>\n",
       "      <td>Ghosts of Mars</td>\n",
       "      <td>2001-08-24</td>\n",
       "      <td>14010832.0</td>\n",
       "      <td>98.0</td>\n",
       "      <td>{\"/m/02h40lc\": \"English Language\"}</td>\n",
       "      <td>[United States of America]</td>\n",
       "      <td>[Thriller, Science Fiction, Horror, Adventure,...</td>\n",
       "    </tr>\n",
       "    <tr>\n",
       "      <th>1</th>\n",
       "      <td>3196793</td>\n",
       "      <td>/m/08yl5d</td>\n",
       "      <td>Getting Away with Murder: The JonBenét Ramsey ...</td>\n",
       "      <td>2000-02-16</td>\n",
       "      <td>NaN</td>\n",
       "      <td>95.0</td>\n",
       "      <td>{\"/m/02h40lc\": \"English Language\"}</td>\n",
       "      <td>[United States of America]</td>\n",
       "      <td>[Mystery, Biographical film, Drama, Crime Drama]</td>\n",
       "    </tr>\n",
       "    <tr>\n",
       "      <th>5</th>\n",
       "      <td>13696889</td>\n",
       "      <td>/m/03cfc81</td>\n",
       "      <td>The Gangsters</td>\n",
       "      <td>1913-05-29</td>\n",
       "      <td>NaN</td>\n",
       "      <td>35.0</td>\n",
       "      <td>{\"/m/06ppq\": \"Silent film\", \"/m/02h40lc\": \"Eng...</td>\n",
       "      <td>[United States of America]</td>\n",
       "      <td>[Short Film, Silent film, Indie, Black-and-whi...</td>\n",
       "    </tr>\n",
       "    <tr>\n",
       "      <th>7</th>\n",
       "      <td>10408933</td>\n",
       "      <td>/m/02qc0j7</td>\n",
       "      <td>Alexander's Ragtime Band</td>\n",
       "      <td>1938-08-16</td>\n",
       "      <td>3600000.0</td>\n",
       "      <td>106.0</td>\n",
       "      <td>{\"/m/02h40lc\": \"English Language\"}</td>\n",
       "      <td>[United States of America]</td>\n",
       "      <td>[Musical, Comedy, Black-and-white]</td>\n",
       "    </tr>\n",
       "    <tr>\n",
       "      <th>10</th>\n",
       "      <td>175026</td>\n",
       "      <td>/m/017n1p</td>\n",
       "      <td>Sarah and Son</td>\n",
       "      <td>1930</td>\n",
       "      <td>NaN</td>\n",
       "      <td>86.0</td>\n",
       "      <td>{\"/m/02h40lc\": \"English Language\"}</td>\n",
       "      <td>[United States of America]</td>\n",
       "      <td>[Drama, Black-and-white]</td>\n",
       "    </tr>\n",
       "    <tr>\n",
       "      <th>...</th>\n",
       "      <td>...</td>\n",
       "      <td>...</td>\n",
       "      <td>...</td>\n",
       "      <td>...</td>\n",
       "      <td>...</td>\n",
       "      <td>...</td>\n",
       "      <td>...</td>\n",
       "      <td>...</td>\n",
       "      <td>...</td>\n",
       "    </tr>\n",
       "    <tr>\n",
       "      <th>81725</th>\n",
       "      <td>1918494</td>\n",
       "      <td>/m/0660qx</td>\n",
       "      <td>State and Main</td>\n",
       "      <td>2000-08-26</td>\n",
       "      <td>6944471.0</td>\n",
       "      <td>106.0</td>\n",
       "      <td>{\"/m/02bjrlw\": \"Italian Language\", \"/m/02h40lc...</td>\n",
       "      <td>[France, United States of America]</td>\n",
       "      <td>[Parody, Americana, Comedy]</td>\n",
       "    </tr>\n",
       "    <tr>\n",
       "      <th>81726</th>\n",
       "      <td>664006</td>\n",
       "      <td>/m/030xw6</td>\n",
       "      <td>Guilty as Sin</td>\n",
       "      <td>1993-06-04</td>\n",
       "      <td>22886222.0</td>\n",
       "      <td>107.0</td>\n",
       "      <td>{}</td>\n",
       "      <td>[United States of America]</td>\n",
       "      <td>[Thriller, Erotic thriller, Psychological thri...</td>\n",
       "    </tr>\n",
       "    <tr>\n",
       "      <th>81727</th>\n",
       "      <td>24209227</td>\n",
       "      <td>/m/07k5mlk</td>\n",
       "      <td>The Time, the Place and the Girl</td>\n",
       "      <td>1946</td>\n",
       "      <td>NaN</td>\n",
       "      <td>105.0</td>\n",
       "      <td>{\"/m/02h40lc\": \"English Language\"}</td>\n",
       "      <td>[United States of America]</td>\n",
       "      <td>[Comedy film, Romance Film, Musical]</td>\n",
       "    </tr>\n",
       "    <tr>\n",
       "      <th>81736</th>\n",
       "      <td>35228177</td>\n",
       "      <td>/m/0j7hxnt</td>\n",
       "      <td>Mermaids: The Body Found</td>\n",
       "      <td>2011-03-19</td>\n",
       "      <td>NaN</td>\n",
       "      <td>120.0</td>\n",
       "      <td>{\"/m/02h40lc\": \"English Language\"}</td>\n",
       "      <td>[United States of America]</td>\n",
       "      <td>[Drama]</td>\n",
       "    </tr>\n",
       "    <tr>\n",
       "      <th>81738</th>\n",
       "      <td>9971909</td>\n",
       "      <td>/m/02pygw1</td>\n",
       "      <td>Another Nice Mess</td>\n",
       "      <td>1972-09-22</td>\n",
       "      <td>NaN</td>\n",
       "      <td>66.0</td>\n",
       "      <td>{\"/m/02h40lc\": \"English Language\"}</td>\n",
       "      <td>[United States of America]</td>\n",
       "      <td>[Satire, Comedy]</td>\n",
       "    </tr>\n",
       "  </tbody>\n",
       "</table>\n",
       "<p>34408 rows × 9 columns</p>\n",
       "</div>"
      ],
      "text/plain": [
       "       Wikipedia_movie_ID Freebase_movie_ID  \\\n",
       "0                  975900         /m/03vyhn   \n",
       "1                 3196793         /m/08yl5d   \n",
       "5                13696889        /m/03cfc81   \n",
       "7                10408933        /m/02qc0j7   \n",
       "10                 175026         /m/017n1p   \n",
       "...                   ...               ...   \n",
       "81725             1918494         /m/0660qx   \n",
       "81726              664006         /m/030xw6   \n",
       "81727            24209227        /m/07k5mlk   \n",
       "81736            35228177        /m/0j7hxnt   \n",
       "81738             9971909        /m/02pygw1   \n",
       "\n",
       "                                              Movie_name  Movie_date  \\\n",
       "0                                         Ghosts of Mars  2001-08-24   \n",
       "1      Getting Away with Murder: The JonBenét Ramsey ...  2000-02-16   \n",
       "5                                          The Gangsters  1913-05-29   \n",
       "7                               Alexander's Ragtime Band  1938-08-16   \n",
       "10                                         Sarah and Son        1930   \n",
       "...                                                  ...         ...   \n",
       "81725                                     State and Main  2000-08-26   \n",
       "81726                                      Guilty as Sin  1993-06-04   \n",
       "81727                   The Time, the Place and the Girl        1946   \n",
       "81736                           Mermaids: The Body Found  2011-03-19   \n",
       "81738                                  Another Nice Mess  1972-09-22   \n",
       "\n",
       "       Movie_revenue  Movie_runtime  \\\n",
       "0         14010832.0           98.0   \n",
       "1                NaN           95.0   \n",
       "5                NaN           35.0   \n",
       "7          3600000.0          106.0   \n",
       "10               NaN           86.0   \n",
       "...              ...            ...   \n",
       "81725      6944471.0          106.0   \n",
       "81726     22886222.0          107.0   \n",
       "81727            NaN          105.0   \n",
       "81736            NaN          120.0   \n",
       "81738            NaN           66.0   \n",
       "\n",
       "                                         Movie_languages  \\\n",
       "0                     {\"/m/02h40lc\": \"English Language\"}   \n",
       "1                     {\"/m/02h40lc\": \"English Language\"}   \n",
       "5      {\"/m/06ppq\": \"Silent film\", \"/m/02h40lc\": \"Eng...   \n",
       "7                     {\"/m/02h40lc\": \"English Language\"}   \n",
       "10                    {\"/m/02h40lc\": \"English Language\"}   \n",
       "...                                                  ...   \n",
       "81725  {\"/m/02bjrlw\": \"Italian Language\", \"/m/02h40lc...   \n",
       "81726                                                 {}   \n",
       "81727                 {\"/m/02h40lc\": \"English Language\"}   \n",
       "81736                 {\"/m/02h40lc\": \"English Language\"}   \n",
       "81738                 {\"/m/02h40lc\": \"English Language\"}   \n",
       "\n",
       "                          Movie_countries  \\\n",
       "0              [United States of America]   \n",
       "1              [United States of America]   \n",
       "5              [United States of America]   \n",
       "7              [United States of America]   \n",
       "10             [United States of America]   \n",
       "...                                   ...   \n",
       "81725  [France, United States of America]   \n",
       "81726          [United States of America]   \n",
       "81727          [United States of America]   \n",
       "81736          [United States of America]   \n",
       "81738          [United States of America]   \n",
       "\n",
       "                                            Movie_genres  \n",
       "0      [Thriller, Science Fiction, Horror, Adventure,...  \n",
       "1       [Mystery, Biographical film, Drama, Crime Drama]  \n",
       "5      [Short Film, Silent film, Indie, Black-and-whi...  \n",
       "7                     [Musical, Comedy, Black-and-white]  \n",
       "10                              [Drama, Black-and-white]  \n",
       "...                                                  ...  \n",
       "81725                        [Parody, Americana, Comedy]  \n",
       "81726  [Thriller, Erotic thriller, Psychological thri...  \n",
       "81727               [Comedy film, Romance Film, Musical]  \n",
       "81736                                            [Drama]  \n",
       "81738                                   [Satire, Comedy]  \n",
       "\n",
       "[34408 rows x 9 columns]"
      ]
     },
     "execution_count": 2,
     "metadata": {},
     "output_type": "execute_result"
    }
   ],
   "source": [
    "### Movie metadata import\n",
    "df_movie = pd.read_table(data_folder +'movie.metadata.tsv',header=None)\n",
    "df_movie.columns=['Wikipedia_movie_ID' , 'Freebase_movie_ID', 'Movie_name' , 'Movie_date' , 'Movie_revenue' , 'Movie_runtime' , 'Movie_languages' , 'Movie_countries' , 'Movie_genres']\n",
    "df_movie['Movie_countries'] = df_movie['Movie_countries'].apply( lambda x: list(eval(x).values()))\n",
    "df_movie['Movie_genres'] = df_movie['Movie_genres'].apply( lambda x: list(eval(x).values()) )\n",
    "\n",
    "\n",
    "#Movie metadata of american movies\n",
    "df_movie_usa = df_movie.loc[df_movie['Movie_countries'].explode().isin(['United States of America'])[df_movie['Movie_countries'].explode().isin(['United States of America'])].index]\n",
    "df_movie_usa"
   ]
  },
  {
   "cell_type": "markdown",
   "id": "39e7653c",
   "metadata": {},
   "source": [
    "#### Character metadata"
   ]
  },
  {
   "cell_type": "code",
   "execution_count": 3,
   "id": "5ecfb356",
   "metadata": {},
   "outputs": [],
   "source": [
    "### Character metadata import\n",
    "df_character = pd.read_table(data_folder +'character.metadata.tsv',header=None)\n",
    "df_character.columns=['Wikipedia_movie_ID' , 'Freebase_movie_ID' , 'Movie_date' , 'Character_name' , 'Actor_date_of_birth' , 'Actor_gender' , 'Actor_height' , 'Actor_ethnicity' , 'Actor_name' , 'Actor_age_at_movie_release' , 'Freebase_character_actor_ID' , 'Freebase_character_ID' , 'Freebase_actor_ID'  ]\n",
    "\n",
    "#Correct negative or too high actor age\n",
    "df_character['Actor_age_at_movie_release']=df_character['Actor_age_at_movie_release'].apply(lambda x: -x if x<0 else x)\n",
    "df_character['Actor_age_at_movie_release']=df_character['Actor_age_at_movie_release'].apply(lambda x: float(\"nan\") if x>130 else x)\n",
    "\n",
    "#Character metadata of american movies\n",
    "df_character_usa = df_character.merge(df_movie_usa['Freebase_movie_ID'], on='Freebase_movie_ID')\n",
    "df_character_usa.to_csv('df_character_usa.csv')"
   ]
  },
  {
   "cell_type": "markdown",
   "id": "10996b6b",
   "metadata": {},
   "source": [
    "#### Movie summary"
   ]
  },
  {
   "cell_type": "code",
   "execution_count": 4,
   "id": "ce3aed60",
   "metadata": {},
   "outputs": [],
   "source": [
    "#Dataframe with existing movie summary\n",
    "wiki_id_list = []\n",
    "for ctr,wiki_id in enumerate(list(df_movie_usa['Wikipedia_movie_ID'])) : \n",
    "    path = data_folder+'/corenlp_plot_summaries/'+str(wiki_id)+'.xml'\n",
    "    if os.path.exists(path):\n",
    "        wiki_id_list.append(wiki_id)\n",
    "wiki_id_series = pd.Series(wiki_id_list, name='Wikipedia_movie_ID',dtype=object)\n",
    "\n",
    "#Data frame (movie metadata) with only existing summaries \n",
    "df_movie_usa_summary=df_movie_usa.merge(wiki_id_series, on='Wikipedia_movie_ID')\n",
    "\n",
    "\n",
    "#Data frame (character metadata) with only existing summaries\n",
    "df_character_usa_summary=df_character_usa.merge(wiki_id_series, on='Wikipedia_movie_ID')\n"
   ]
  },
  {
   "cell_type": "code",
   "execution_count": 5,
   "id": "b83f5be7",
   "metadata": {},
   "outputs": [
    {
     "data": {
      "text/html": [
       "<div>\n",
       "<style scoped>\n",
       "    .dataframe tbody tr th:only-of-type {\n",
       "        vertical-align: middle;\n",
       "    }\n",
       "\n",
       "    .dataframe tbody tr th {\n",
       "        vertical-align: top;\n",
       "    }\n",
       "\n",
       "    .dataframe thead th {\n",
       "        text-align: right;\n",
       "    }\n",
       "</style>\n",
       "<table border=\"1\" class=\"dataframe\">\n",
       "  <thead>\n",
       "    <tr style=\"text-align: right;\">\n",
       "      <th></th>\n",
       "      <th>Wikipedia_movie_ID</th>\n",
       "      <th>Freebase_movie_ID</th>\n",
       "      <th>Movie_name</th>\n",
       "      <th>Movie_date</th>\n",
       "      <th>Movie_revenue</th>\n",
       "      <th>Movie_runtime</th>\n",
       "      <th>Movie_languages</th>\n",
       "      <th>Movie_countries</th>\n",
       "      <th>Movie_genres</th>\n",
       "      <th>feminine</th>\n",
       "      <th>...</th>\n",
       "      <th>sexiest</th>\n",
       "      <th>beauty</th>\n",
       "      <th>beautiful</th>\n",
       "      <th>positive_emotion</th>\n",
       "      <th>negative_emotion</th>\n",
       "      <th>Number_of_words</th>\n",
       "      <th>he_count</th>\n",
       "      <th>she_count</th>\n",
       "      <th>Principal_summary_character</th>\n",
       "      <th>Secondary_summary_character</th>\n",
       "    </tr>\n",
       "  </thead>\n",
       "  <tbody>\n",
       "    <tr>\n",
       "      <th>0</th>\n",
       "      <td>975900</td>\n",
       "      <td>/m/03vyhn</td>\n",
       "      <td>Ghosts of Mars</td>\n",
       "      <td>2001-08-24</td>\n",
       "      <td>14010832.0</td>\n",
       "      <td>98.0</td>\n",
       "      <td>{\"/m/02h40lc\": \"English Language\"}</td>\n",
       "      <td>[United States of America]</td>\n",
       "      <td>[Thriller, Science Fiction, Horror, Adventure,...</td>\n",
       "      <td>1.0</td>\n",
       "      <td>...</td>\n",
       "      <td>0.0</td>\n",
       "      <td>0.0</td>\n",
       "      <td>0.0</td>\n",
       "      <td>0.0</td>\n",
       "      <td>7.0</td>\n",
       "      <td>396</td>\n",
       "      <td>1</td>\n",
       "      <td>0</td>\n",
       "      <td>Ballard</td>\n",
       "      <td>Williams</td>\n",
       "    </tr>\n",
       "    <tr>\n",
       "      <th>1</th>\n",
       "      <td>6631279</td>\n",
       "      <td>/m/0gffwj</td>\n",
       "      <td>Little city</td>\n",
       "      <td>1997-04-04</td>\n",
       "      <td>NaN</td>\n",
       "      <td>93.0</td>\n",
       "      <td>{\"/m/02h40lc\": \"English Language\"}</td>\n",
       "      <td>[United States of America]</td>\n",
       "      <td>[Romantic comedy, Ensemble Film, Comedy-drama,...</td>\n",
       "      <td>3.0</td>\n",
       "      <td>...</td>\n",
       "      <td>0.0</td>\n",
       "      <td>0.0</td>\n",
       "      <td>0.0</td>\n",
       "      <td>2.0</td>\n",
       "      <td>2.0</td>\n",
       "      <td>257</td>\n",
       "      <td>2</td>\n",
       "      <td>5</td>\n",
       "      <td>Adam</td>\n",
       "      <td>Kate</td>\n",
       "    </tr>\n",
       "    <tr>\n",
       "      <th>2</th>\n",
       "      <td>11250635</td>\n",
       "      <td>/m/02r52hc</td>\n",
       "      <td>The Mechanical Monsters</td>\n",
       "      <td>NaN</td>\n",
       "      <td>NaN</td>\n",
       "      <td>NaN</td>\n",
       "      <td>{\"/m/02h40lc\": \"English Language\"}</td>\n",
       "      <td>[United States of America]</td>\n",
       "      <td>[Science Fiction, Adventure, Animation, Short ...</td>\n",
       "      <td>1.0</td>\n",
       "      <td>...</td>\n",
       "      <td>0.0</td>\n",
       "      <td>1.0</td>\n",
       "      <td>0.0</td>\n",
       "      <td>0.0</td>\n",
       "      <td>3.0</td>\n",
       "      <td>707</td>\n",
       "      <td>4</td>\n",
       "      <td>2</td>\n",
       "      <td>Lois</td>\n",
       "      <td>Clark</td>\n",
       "    </tr>\n",
       "    <tr>\n",
       "      <th>3</th>\n",
       "      <td>77856</td>\n",
       "      <td>/m/0kcn7</td>\n",
       "      <td>Mary Poppins</td>\n",
       "      <td>1964-08-27</td>\n",
       "      <td>102272727.0</td>\n",
       "      <td>139.0</td>\n",
       "      <td>{\"/m/02h40lc\": \"English Language\"}</td>\n",
       "      <td>[United States of America]</td>\n",
       "      <td>[Children's/Family, Musical, Fantasy, Comedy, ...</td>\n",
       "      <td>1.0</td>\n",
       "      <td>...</td>\n",
       "      <td>0.0</td>\n",
       "      <td>1.0</td>\n",
       "      <td>0.0</td>\n",
       "      <td>8.0</td>\n",
       "      <td>5.0</td>\n",
       "      <td>1678</td>\n",
       "      <td>12</td>\n",
       "      <td>7</td>\n",
       "      <td>Mary</td>\n",
       "      <td>Banks</td>\n",
       "    </tr>\n",
       "    <tr>\n",
       "      <th>4</th>\n",
       "      <td>21926710</td>\n",
       "      <td>/m/05p45cv</td>\n",
       "      <td>White on Rice</td>\n",
       "      <td>2009</td>\n",
       "      <td>NaN</td>\n",
       "      <td>82.0</td>\n",
       "      <td>{}</td>\n",
       "      <td>[United States of America]</td>\n",
       "      <td>[Romantic comedy, Romance Film, Comedy, Indie]</td>\n",
       "      <td>1.0</td>\n",
       "      <td>...</td>\n",
       "      <td>0.0</td>\n",
       "      <td>1.0</td>\n",
       "      <td>0.0</td>\n",
       "      <td>2.0</td>\n",
       "      <td>0.0</td>\n",
       "      <td>125</td>\n",
       "      <td>3</td>\n",
       "      <td>0</td>\n",
       "      <td>Jimmy</td>\n",
       "      <td>Tak</td>\n",
       "    </tr>\n",
       "    <tr>\n",
       "      <th>...</th>\n",
       "      <td>...</td>\n",
       "      <td>...</td>\n",
       "      <td>...</td>\n",
       "      <td>...</td>\n",
       "      <td>...</td>\n",
       "      <td>...</td>\n",
       "      <td>...</td>\n",
       "      <td>...</td>\n",
       "      <td>...</td>\n",
       "      <td>...</td>\n",
       "      <td>...</td>\n",
       "      <td>...</td>\n",
       "      <td>...</td>\n",
       "      <td>...</td>\n",
       "      <td>...</td>\n",
       "      <td>...</td>\n",
       "      <td>...</td>\n",
       "      <td>...</td>\n",
       "      <td>...</td>\n",
       "      <td>...</td>\n",
       "      <td>...</td>\n",
       "    </tr>\n",
       "    <tr>\n",
       "      <th>20784</th>\n",
       "      <td>7761830</td>\n",
       "      <td>/m/0kvgqb</td>\n",
       "      <td>Spaced Invaders</td>\n",
       "      <td>1990</td>\n",
       "      <td>15369573.0</td>\n",
       "      <td>100.0</td>\n",
       "      <td>{\"/m/02h40lc\": \"English Language\"}</td>\n",
       "      <td>[United States of America]</td>\n",
       "      <td>[Alien Film, Science Fiction, Family Film, Com...</td>\n",
       "      <td>0.0</td>\n",
       "      <td>...</td>\n",
       "      <td>0.0</td>\n",
       "      <td>0.0</td>\n",
       "      <td>0.0</td>\n",
       "      <td>2.0</td>\n",
       "      <td>4.0</td>\n",
       "      <td>639</td>\n",
       "      <td>1</td>\n",
       "      <td>0</td>\n",
       "      <td>Bipto</td>\n",
       "      <td>Wrenchmuller</td>\n",
       "    </tr>\n",
       "    <tr>\n",
       "      <th>20785</th>\n",
       "      <td>26044505</td>\n",
       "      <td>/m/0b6m67n</td>\n",
       "      <td>The Flying Serpent</td>\n",
       "      <td>1946</td>\n",
       "      <td>NaN</td>\n",
       "      <td>59.0</td>\n",
       "      <td>{}</td>\n",
       "      <td>[United States of America]</td>\n",
       "      <td>[Thriller, B-movie, Horror]</td>\n",
       "      <td>0.0</td>\n",
       "      <td>...</td>\n",
       "      <td>0.0</td>\n",
       "      <td>0.0</td>\n",
       "      <td>0.0</td>\n",
       "      <td>0.0</td>\n",
       "      <td>3.0</td>\n",
       "      <td>37</td>\n",
       "      <td>1</td>\n",
       "      <td>0</td>\n",
       "      <td>Andrew</td>\n",
       "      <td>Forbes</td>\n",
       "    </tr>\n",
       "    <tr>\n",
       "      <th>20786</th>\n",
       "      <td>1918494</td>\n",
       "      <td>/m/0660qx</td>\n",
       "      <td>State and Main</td>\n",
       "      <td>2000-08-26</td>\n",
       "      <td>6944471.0</td>\n",
       "      <td>106.0</td>\n",
       "      <td>{\"/m/02bjrlw\": \"Italian Language\", \"/m/02h40lc...</td>\n",
       "      <td>[France, United States of America]</td>\n",
       "      <td>[Parody, Americana, Comedy]</td>\n",
       "      <td>1.0</td>\n",
       "      <td>...</td>\n",
       "      <td>0.0</td>\n",
       "      <td>0.0</td>\n",
       "      <td>0.0</td>\n",
       "      <td>2.0</td>\n",
       "      <td>1.0</td>\n",
       "      <td>252</td>\n",
       "      <td>1</td>\n",
       "      <td>1</td>\n",
       "      <td>Carla</td>\n",
       "      <td>Walt</td>\n",
       "    </tr>\n",
       "    <tr>\n",
       "      <th>20787</th>\n",
       "      <td>664006</td>\n",
       "      <td>/m/030xw6</td>\n",
       "      <td>Guilty as Sin</td>\n",
       "      <td>1993-06-04</td>\n",
       "      <td>22886222.0</td>\n",
       "      <td>107.0</td>\n",
       "      <td>{}</td>\n",
       "      <td>[United States of America]</td>\n",
       "      <td>[Thriller, Erotic thriller, Psychological thri...</td>\n",
       "      <td>1.0</td>\n",
       "      <td>...</td>\n",
       "      <td>0.0</td>\n",
       "      <td>0.0</td>\n",
       "      <td>0.0</td>\n",
       "      <td>1.0</td>\n",
       "      <td>9.0</td>\n",
       "      <td>611</td>\n",
       "      <td>6</td>\n",
       "      <td>8</td>\n",
       "      <td>Greenhill</td>\n",
       "      <td>Haines</td>\n",
       "    </tr>\n",
       "    <tr>\n",
       "      <th>20788</th>\n",
       "      <td>35228177</td>\n",
       "      <td>/m/0j7hxnt</td>\n",
       "      <td>Mermaids: The Body Found</td>\n",
       "      <td>2011-03-19</td>\n",
       "      <td>NaN</td>\n",
       "      <td>120.0</td>\n",
       "      <td>{\"/m/02h40lc\": \"English Language\"}</td>\n",
       "      <td>[United States of America]</td>\n",
       "      <td>[Drama]</td>\n",
       "      <td>0.0</td>\n",
       "      <td>...</td>\n",
       "      <td>0.0</td>\n",
       "      <td>0.0</td>\n",
       "      <td>0.0</td>\n",
       "      <td>1.0</td>\n",
       "      <td>0.0</td>\n",
       "      <td>118</td>\n",
       "      <td>0</td>\n",
       "      <td>0</td>\n",
       "      <td>NaN</td>\n",
       "      <td>NaN</td>\n",
       "    </tr>\n",
       "  </tbody>\n",
       "</table>\n",
       "<p>20789 rows × 21 columns</p>\n",
       "</div>"
      ],
      "text/plain": [
       "      Wikipedia_movie_ID Freebase_movie_ID                Movie_name  \\\n",
       "0                 975900         /m/03vyhn            Ghosts of Mars   \n",
       "1                6631279         /m/0gffwj               Little city   \n",
       "2               11250635        /m/02r52hc   The Mechanical Monsters   \n",
       "3                  77856          /m/0kcn7              Mary Poppins   \n",
       "4               21926710        /m/05p45cv             White on Rice   \n",
       "...                  ...               ...                       ...   \n",
       "20784            7761830         /m/0kvgqb           Spaced Invaders   \n",
       "20785           26044505        /m/0b6m67n        The Flying Serpent   \n",
       "20786            1918494         /m/0660qx            State and Main   \n",
       "20787             664006         /m/030xw6             Guilty as Sin   \n",
       "20788           35228177        /m/0j7hxnt  Mermaids: The Body Found   \n",
       "\n",
       "       Movie_date  Movie_revenue  Movie_runtime  \\\n",
       "0      2001-08-24     14010832.0           98.0   \n",
       "1      1997-04-04            NaN           93.0   \n",
       "2             NaN            NaN            NaN   \n",
       "3      1964-08-27    102272727.0          139.0   \n",
       "4            2009            NaN           82.0   \n",
       "...           ...            ...            ...   \n",
       "20784        1990     15369573.0          100.0   \n",
       "20785        1946            NaN           59.0   \n",
       "20786  2000-08-26      6944471.0          106.0   \n",
       "20787  1993-06-04     22886222.0          107.0   \n",
       "20788  2011-03-19            NaN          120.0   \n",
       "\n",
       "                                         Movie_languages  \\\n",
       "0                     {\"/m/02h40lc\": \"English Language\"}   \n",
       "1                     {\"/m/02h40lc\": \"English Language\"}   \n",
       "2                     {\"/m/02h40lc\": \"English Language\"}   \n",
       "3                     {\"/m/02h40lc\": \"English Language\"}   \n",
       "4                                                     {}   \n",
       "...                                                  ...   \n",
       "20784                 {\"/m/02h40lc\": \"English Language\"}   \n",
       "20785                                                 {}   \n",
       "20786  {\"/m/02bjrlw\": \"Italian Language\", \"/m/02h40lc...   \n",
       "20787                                                 {}   \n",
       "20788                 {\"/m/02h40lc\": \"English Language\"}   \n",
       "\n",
       "                          Movie_countries  \\\n",
       "0              [United States of America]   \n",
       "1              [United States of America]   \n",
       "2              [United States of America]   \n",
       "3              [United States of America]   \n",
       "4              [United States of America]   \n",
       "...                                   ...   \n",
       "20784          [United States of America]   \n",
       "20785          [United States of America]   \n",
       "20786  [France, United States of America]   \n",
       "20787          [United States of America]   \n",
       "20788          [United States of America]   \n",
       "\n",
       "                                            Movie_genres  feminine  ...  \\\n",
       "0      [Thriller, Science Fiction, Horror, Adventure,...       1.0  ...   \n",
       "1      [Romantic comedy, Ensemble Film, Comedy-drama,...       3.0  ...   \n",
       "2      [Science Fiction, Adventure, Animation, Short ...       1.0  ...   \n",
       "3      [Children's/Family, Musical, Fantasy, Comedy, ...       1.0  ...   \n",
       "4         [Romantic comedy, Romance Film, Comedy, Indie]       1.0  ...   \n",
       "...                                                  ...       ...  ...   \n",
       "20784  [Alien Film, Science Fiction, Family Film, Com...       0.0  ...   \n",
       "20785                        [Thriller, B-movie, Horror]       0.0  ...   \n",
       "20786                        [Parody, Americana, Comedy]       1.0  ...   \n",
       "20787  [Thriller, Erotic thriller, Psychological thri...       1.0  ...   \n",
       "20788                                            [Drama]       0.0  ...   \n",
       "\n",
       "       sexiest  beauty  beautiful  positive_emotion  negative_emotion  \\\n",
       "0          0.0     0.0        0.0               0.0               7.0   \n",
       "1          0.0     0.0        0.0               2.0               2.0   \n",
       "2          0.0     1.0        0.0               0.0               3.0   \n",
       "3          0.0     1.0        0.0               8.0               5.0   \n",
       "4          0.0     1.0        0.0               2.0               0.0   \n",
       "...        ...     ...        ...               ...               ...   \n",
       "20784      0.0     0.0        0.0               2.0               4.0   \n",
       "20785      0.0     0.0        0.0               0.0               3.0   \n",
       "20786      0.0     0.0        0.0               2.0               1.0   \n",
       "20787      0.0     0.0        0.0               1.0               9.0   \n",
       "20788      0.0     0.0        0.0               1.0               0.0   \n",
       "\n",
       "       Number_of_words  he_count  she_count  Principal_summary_character  \\\n",
       "0                  396         1          0                      Ballard   \n",
       "1                  257         2          5                         Adam   \n",
       "2                  707         4          2                         Lois   \n",
       "3                 1678        12          7                         Mary   \n",
       "4                  125         3          0                        Jimmy   \n",
       "...                ...       ...        ...                          ...   \n",
       "20784              639         1          0                        Bipto   \n",
       "20785               37         1          0                       Andrew   \n",
       "20786              252         1          1                        Carla   \n",
       "20787              611         6          8                    Greenhill   \n",
       "20788              118         0          0                          NaN   \n",
       "\n",
       "      Secondary_summary_character  \n",
       "0                        Williams  \n",
       "1                            Kate  \n",
       "2                           Clark  \n",
       "3                           Banks  \n",
       "4                             Tak  \n",
       "...                           ...  \n",
       "20784                Wrenchmuller  \n",
       "20785                      Forbes  \n",
       "20786                        Walt  \n",
       "20787                      Haines  \n",
       "20788                         NaN  \n",
       "\n",
       "[20789 rows x 21 columns]"
      ]
     },
     "execution_count": 5,
     "metadata": {},
     "output_type": "execute_result"
    }
   ],
   "source": [
    "#Summary exploration\n",
    "df=df_movie_usa_summary\n",
    "\n",
    "#Initialization\n",
    "lexicon = Empath()\n",
    "df_lex_fields = pd.DataFrame()\n",
    "dic_lex_fields=dict.fromkeys(df['Wikipedia_movie_ID'].values,[])\n",
    "\n",
    "for ctr,movie in enumerate(list(df['Wikipedia_movie_ID'].values)) :\n",
    "\n",
    "    path = data_folder+'/corenlp_plot_summaries/'+str(movie)+'.xml'\n",
    "    if os.path.exists(path):\n",
    "        #Extract dataframe from xml file and convert it into a dataframe\n",
    "        df_summary=pd.DataFrame()\n",
    "        df_summary = pd.read_xml(data_folder+'/corenlp_plot_summaries/'+str(movie)+'.xml' , xpath='//token',parser='lxml')\n",
    "        df_summary.rename(columns={'id':'word_id'},inplace=True)\n",
    "        df_summary.insert(0, \"sentence_id\",df_summary['word_id'].ne(df_summary['word_id'].shift()+1).cumsum(), True) #add sentence id by indexing sequences  \n",
    "        \n",
    "        ###Lexical field analysis\n",
    "        summary_words=list(df_summary['word'].values) #all words of the summary in a list\n",
    "        summary_words=[str(word) for word in summary_words] #convert all words to a string\n",
    "        features_lex_fields = pd.Series([lexicon.analyze(list(summary_words), categories = [\"feminine\",\"sexist\",\"sexiest\",\"beauty\",\"beautiful\",\"positive_emotion\",\"negative_emotion\"])])\n",
    "        #Store data into a dictionnary\n",
    "        dic_lex_fields[movie]= features_lex_fields[0]\n",
    "        #Add a column corresponding to the number of words in the summary\n",
    "        dic_lex_fields[movie]['Number_of_words']=len(df_summary)\n",
    "        \n",
    "        \n",
    "        \n",
    "        ###Count of he/she        \n",
    "        #Filter only the pronouns\n",
    "        df_summary_pronouns= df_summary[df_summary.POS=='PRP']\n",
    "        #Count the number of redundant words \n",
    "        personal_pronouns = df_summary_pronouns.groupby(['word'])['word'].count().sort_values(ascending=False)\n",
    "\n",
    "        if 'he' in list(personal_pronouns.index):\n",
    "            dic_lex_fields[movie]['he_count'] = personal_pronouns['he']\n",
    "        else:\n",
    "            dic_lex_fields[movie]['he_count'] = 0\n",
    "\n",
    "        if 'she' in list(personal_pronouns.index):\n",
    "            dic_lex_fields[movie]['she_count'] = personal_pronouns['she'] \n",
    "        else:\n",
    "            dic_lex_fields[movie]['she_count'] = 0\n",
    "        \n",
    "        \n",
    "        \n",
    "        ###Principal characters according to the summary\n",
    "        characters_name = df_summary[df_summary['NER'] == 'PERSON']['word'].value_counts().index\n",
    "        if len(characters_name)>=2:\n",
    "            dic_lex_fields[movie]['Principal_summary_character'] =  characters_name[0] \n",
    "            dic_lex_fields[movie]['Secondary_summary_character'] =  characters_name[1] \n",
    "        if len(characters_name)==1:\n",
    "            dic_lex_fields[movie]['Principal_summary_character'] =  characters_name[0] \n",
    "            dic_lex_fields[movie]['Secondary_summary_character'] =  float('nan')    \n",
    "        if len(characters_name)==0:\n",
    "            dic_lex_fields[movie]['Principal_summary_character'] =  float('nan')\n",
    "            dic_lex_fields[movie]['Secondary_summary_character'] =  float('nan')   \n",
    "\n",
    "df_lex_fields = pd.DataFrame.from_dict(dic_lex_fields, orient='index')  \n",
    "#df_lex_fields.insert(loc=0, column='Movie_name', value=df['Movie_name'].values)\n",
    "df_lex_fields.insert(loc=1, column='Freebase_movie_ID', value=df['Freebase_movie_ID'].values)\n",
    "df_usa_summary_processed=df_movie_usa_summary.merge(df_lex_fields, on='Freebase_movie_ID')\n",
    "df_usa_summary_processed\n"
   ]
  },
  {
   "cell_type": "code",
   "execution_count": 6,
   "id": "ad79fd27",
   "metadata": {},
   "outputs": [],
   "source": [
    "#df=df_movie_usa.merge(df_usa_summary_processed, on=['Wikipedia_movie_ID','Freebase_movie_ID','Movie_name','Movie_date','Movie_revenue','Movie_runtime','Movie_languages','Movie_countries','Movie_genres'], how='outer')\n",
    "df=df_movie_usa.merge(df_usa_summary_processed, on=['Wikipedia_movie_ID','Freebase_movie_ID','Movie_name','Movie_date','Movie_revenue','Movie_runtime','Movie_languages'], how='outer')\n",
    "df.drop('Movie_genres_y', inplace=True, axis=1)\n",
    "df.drop('Movie_countries_y', inplace=True, axis=1)\n",
    "df.rename(columns={\"Movie_genres_x\": \"Movie_genres\", \"Movie_countries_x\": \"Movie_countries\"},inplace=True)\n",
    "\n",
    "#Export final dataframe for movie metadata\n",
    "df.to_csv('df_movie_usa.csv')\n"
   ]
  },
  {
   "cell_type": "markdown",
   "id": "26741800",
   "metadata": {},
   "source": [
    "#### Import CSV"
   ]
  },
  {
   "cell_type": "code",
   "execution_count": 7,
   "id": "38040855",
   "metadata": {},
   "outputs": [],
   "source": [
    "df_movie_usa=pd.read_csv('df_movie_usa.csv')\n",
    "df_character_usa=pd.read_csv('df_character_usa.csv')"
   ]
  },
  {
   "cell_type": "markdown",
   "id": "6b2e799c",
   "metadata": {},
   "source": [
    "## 2) Focus on the USA"
   ]
  },
  {
   "cell_type": "code",
   "execution_count": null,
   "id": "8ff3fe3a",
   "metadata": {},
   "outputs": [],
   "source": [
    "#Initialisation of country converter to iso-3\n",
    "cc = coco.CountryConverter()\n",
    "\n",
    "#Occurences of movies for each country\n",
    "countries = df_movie['Movie_countries'].explode().value_counts() #count the number of occurences\n",
    "df_countries = countries.to_frame(name='Number_of_movies')\n",
    "df_countries.reset_index(inplace=True)\n",
    "df_countries = df_countries.rename(columns = {'index':'Countries'})\n",
    "df_countries['percentage']=(df_countries['Number_of_movies']/df_countries['Number_of_movies'].sum())*100\n",
    "df_countries['percentage']=df_countries['percentage'].apply(lambda x: int(x))"
   ]
  },
  {
   "cell_type": "markdown",
   "id": "dec19633",
   "metadata": {},
   "source": [
    "It is important to notice that for each movies, several countries name are specified. We consider each of these countries as country of origin of the movie. Thus, the total number of occurences is much larger than the total number of movies "
   ]
  },
  {
   "cell_type": "code",
   "execution_count": 57,
   "id": "598ba2b4",
   "metadata": {},
   "outputs": [
    {
     "name": "stderr",
     "output_type": "stream",
     "text": [
      "West Germany not found in regex\n",
      "Soviet Union not found in regex\n",
      "German Democratic Republic not found in regex\n",
      "Yugoslavia not found in regex\n",
      "England not found in regex\n",
      "Weimar Republic not found in regex\n",
      "Scotland not found in regex\n",
      "Socialist Federal Republic of Yugoslavia not found in regex\n",
      "Serbia and Montenegro not found in regex\n",
      "Federal Republic of Yugoslavia not found in regex\n",
      "Wales not found in regex\n",
      "Northern Ireland not found in regex\n",
      "Soviet occupation zone not found in regex\n",
      "Malayalam Language not found in regex\n",
      "Crime not found in regex\n",
      "German Language not found in regex\n",
      "Ukranian SSR not found in regex\n"
     ]
    },
    {
     "data": {
      "application/vnd.plotly.v1+json": {
       "config": {
        "linkText": "Export to plot.ly",
        "plotlyServerURL": "https://plot.ly",
        "showLink": false
       },
       "data": [
        {
         "locations": [
          "USA",
          "IND",
          "GBR",
          "FRA",
          "ITA",
          "JPN",
          "CAN",
          "DEU",
          "ARG",
          "HKG",
          "ESP",
          "AUS",
          "KOR",
          "MEX",
          "NLD",
          "SWE",
          "not found",
          "CHN",
          "DNK",
          "not found",
          "PHL",
          "POL",
          "CZE",
          "BEL",
          "NZL",
          "NOR",
          "RUS",
          "HUN",
          "not found",
          "not found",
          "BRA",
          "IRL",
          "CHE",
          "AUT",
          "FIN",
          "CZE",
          "ISR",
          "TUR",
          "not found",
          "IRN",
          "THA",
          "ZAF",
          "GRC",
          "PAK",
          "TWN",
          "PRT",
          "HRV",
          "EGY",
          "ROU",
          "IDN",
          "MYS",
          "BGR",
          "LKA",
          "SGP",
          "ISL",
          "KHM",
          "LUX",
          "BGD",
          "not found",
          "CHL",
          "SRB",
          "MAR",
          "CUB",
          "COL",
          "not found",
          "DZA",
          "NPL",
          "TUN",
          "LBN",
          "BFA",
          "EST",
          "BIH",
          "SVK",
          "SEN",
          "SVN",
          "VEN",
          "PRI",
          "VNM",
          "ALB",
          "UKR",
          "KOR",
          "AZE",
          "PER",
          "NGA",
          "MMR",
          "DEU",
          "COD",
          "MKD",
          "URY",
          "not found",
          "not found",
          "GEO",
          "MLI",
          "IRQ",
          "LTU",
          "KEN",
          "ARE",
          "ARM",
          "GBR",
          "CMR",
          "BOL",
          "AFG",
          "not found",
          "GEO",
          "JAM",
          "ETH",
          "PSE",
          "PSE",
          "SVK",
          "UZB",
          "not found",
          "ZWE",
          "PAN",
          "UZB",
          "CRI",
          "MLT",
          "not found",
          "MNE",
          "ITA",
          "MCO",
          "CYP",
          "MNG",
          "COG",
          "UKR",
          "GIN",
          "LBY",
          "BHS",
          "HTI",
          "KWT",
          "BTN",
          "ABW",
          "BHR",
          "QAT",
          "ZMB",
          "IMN",
          "not found",
          "JOR",
          "not found",
          "IRQ",
          "TKM",
          "GNB",
          "not found",
          "TWN",
          "MAC",
          "PSE",
          "not found",
          "not found"
         ],
         "text": [
          "United States of America",
          "India",
          "United Kingdom",
          "France",
          "Italy",
          "Japan",
          "Canada",
          "Germany",
          "Argentina",
          "Hong Kong",
          "Spain",
          "Australia",
          "South Korea",
          "Mexico",
          "Netherlands",
          "Sweden",
          "West Germany",
          "China",
          "Denmark",
          "Soviet Union",
          "Philippines",
          "Poland",
          "Czechoslovakia",
          "Belgium",
          "New Zealand",
          "Norway",
          "Russia",
          "Hungary",
          "German Democratic Republic",
          "Yugoslavia",
          "Brazil",
          "Ireland",
          "Switzerland",
          "Austria",
          "Finland",
          "Czech Republic",
          "Israel",
          "Turkey",
          "England",
          "Iran",
          "Thailand",
          "South Africa",
          "Greece",
          "Pakistan",
          "Taiwan",
          "Portugal",
          "Croatia",
          "Egypt",
          "Romania",
          "Indonesia",
          "Malaysia",
          "Bulgaria",
          "Sri Lanka",
          "Singapore",
          "Iceland",
          "Cambodia",
          "Luxembourg",
          "Bangladesh",
          "Weimar Republic",
          "Chile",
          "Serbia",
          "Morocco",
          "Cuba",
          "Colombia",
          "Scotland",
          "Algeria",
          "Nepal",
          "Tunisia",
          "Lebanon",
          "Burkina Faso",
          "Estonia",
          "Bosnia and Herzegovina",
          "Slovakia",
          "Senegal",
          "Slovenia",
          "Venezuela",
          "Puerto Rico",
          "Vietnam",
          "Albania",
          "Ukraine",
          "Korea",
          "Azerbaijan",
          "Peru",
          "Nigeria",
          "Burma",
          "Nazi Germany",
          "Democratic Republic of the Congo",
          "Republic of Macedonia",
          "Uruguay",
          "Socialist Federal Republic of Yugoslavia",
          "Serbia and Montenegro",
          "Georgia",
          "Mali",
          "Iraq",
          "Lithuania",
          "Kenya",
          "United Arab Emirates",
          "Armenia",
          "Kingdom of Great Britain",
          "Cameroon",
          "Bolivia",
          "Afghanistan",
          "Federal Republic of Yugoslavia",
          "Georgian SSR",
          "Jamaica",
          "Ethiopia",
          "Palestinian territories",
          "Mandatory Palestine",
          "Slovak Republic",
          "Uzbek SSR",
          "Wales",
          "Zimbabwe",
          "Panama",
          "Uzbekistan",
          "Costa Rica",
          "Malta",
          "Northern Ireland",
          "Montenegro",
          "Kingdom of Italy",
          "Monaco",
          "Cyprus",
          "Mongolia",
          "Congo",
          "Ukrainian SSR",
          "Guinea",
          "Libya",
          "Bahamas",
          "Haiti",
          "Kuwait",
          "Bhutan",
          "Aruba",
          "Bahrain",
          "Qatar",
          "Zambia",
          "Isle of Man",
          "Soviet occupation zone",
          "Jordan",
          "Malayalam Language",
          "Iraqi Kurdistan",
          "Turkmenistan",
          "Guinea-Bissau",
          "Crime",
          "Republic of China",
          "Macau",
          "Palestinian Territories",
          "German Language",
          "Ukranian SSR"
         ],
         "type": "choropleth",
         "z": [
          39,
          9,
          9,
          5,
          3,
          3,
          2,
          2,
          1,
          1,
          1,
          1,
          1,
          1,
          0,
          0,
          0,
          0,
          0,
          0,
          0,
          0,
          0,
          0,
          0,
          0,
          0,
          0,
          0,
          0,
          0,
          0,
          0,
          0,
          0,
          0,
          0,
          0,
          0,
          0,
          0,
          0,
          0,
          0,
          0,
          0,
          0,
          0,
          0,
          0,
          0,
          0,
          0,
          0,
          0,
          0,
          0,
          0,
          0,
          0,
          0,
          0,
          0,
          0,
          0,
          0,
          0,
          0,
          0,
          0,
          0,
          0,
          0,
          0,
          0,
          0,
          0,
          0,
          0,
          0,
          0,
          0,
          0,
          0,
          0,
          0,
          0,
          0,
          0,
          0,
          0,
          0,
          0,
          0,
          0,
          0,
          0,
          0,
          0,
          0,
          0,
          0,
          0,
          0,
          0,
          0,
          0,
          0,
          0,
          0,
          0,
          0,
          0,
          0,
          0,
          0,
          0,
          0,
          0,
          0,
          0,
          0,
          0,
          0,
          0,
          0,
          0,
          0,
          0,
          0,
          0,
          0,
          0,
          0,
          0,
          0,
          0,
          0,
          0,
          0,
          0,
          0,
          0,
          0,
          0,
          0,
          0
         ]
        }
       ],
       "layout": {
        "geo": {
         "lakecolor": "rgb(0,191,255)",
         "projection": {
          "type": "robinson"
         },
         "showlakes": false
        },
        "template": {
         "data": {
          "bar": [
           {
            "error_x": {
             "color": "#2a3f5f"
            },
            "error_y": {
             "color": "#2a3f5f"
            },
            "marker": {
             "line": {
              "color": "#E5ECF6",
              "width": 0.5
             },
             "pattern": {
              "fillmode": "overlay",
              "size": 10,
              "solidity": 0.2
             }
            },
            "type": "bar"
           }
          ],
          "barpolar": [
           {
            "marker": {
             "line": {
              "color": "#E5ECF6",
              "width": 0.5
             },
             "pattern": {
              "fillmode": "overlay",
              "size": 10,
              "solidity": 0.2
             }
            },
            "type": "barpolar"
           }
          ],
          "carpet": [
           {
            "aaxis": {
             "endlinecolor": "#2a3f5f",
             "gridcolor": "white",
             "linecolor": "white",
             "minorgridcolor": "white",
             "startlinecolor": "#2a3f5f"
            },
            "baxis": {
             "endlinecolor": "#2a3f5f",
             "gridcolor": "white",
             "linecolor": "white",
             "minorgridcolor": "white",
             "startlinecolor": "#2a3f5f"
            },
            "type": "carpet"
           }
          ],
          "choropleth": [
           {
            "colorbar": {
             "outlinewidth": 0,
             "ticks": ""
            },
            "type": "choropleth"
           }
          ],
          "contour": [
           {
            "colorbar": {
             "outlinewidth": 0,
             "ticks": ""
            },
            "colorscale": [
             [
              0,
              "#0d0887"
             ],
             [
              0.1111111111111111,
              "#46039f"
             ],
             [
              0.2222222222222222,
              "#7201a8"
             ],
             [
              0.3333333333333333,
              "#9c179e"
             ],
             [
              0.4444444444444444,
              "#bd3786"
             ],
             [
              0.5555555555555556,
              "#d8576b"
             ],
             [
              0.6666666666666666,
              "#ed7953"
             ],
             [
              0.7777777777777778,
              "#fb9f3a"
             ],
             [
              0.8888888888888888,
              "#fdca26"
             ],
             [
              1,
              "#f0f921"
             ]
            ],
            "type": "contour"
           }
          ],
          "contourcarpet": [
           {
            "colorbar": {
             "outlinewidth": 0,
             "ticks": ""
            },
            "type": "contourcarpet"
           }
          ],
          "heatmap": [
           {
            "colorbar": {
             "outlinewidth": 0,
             "ticks": ""
            },
            "colorscale": [
             [
              0,
              "#0d0887"
             ],
             [
              0.1111111111111111,
              "#46039f"
             ],
             [
              0.2222222222222222,
              "#7201a8"
             ],
             [
              0.3333333333333333,
              "#9c179e"
             ],
             [
              0.4444444444444444,
              "#bd3786"
             ],
             [
              0.5555555555555556,
              "#d8576b"
             ],
             [
              0.6666666666666666,
              "#ed7953"
             ],
             [
              0.7777777777777778,
              "#fb9f3a"
             ],
             [
              0.8888888888888888,
              "#fdca26"
             ],
             [
              1,
              "#f0f921"
             ]
            ],
            "type": "heatmap"
           }
          ],
          "heatmapgl": [
           {
            "colorbar": {
             "outlinewidth": 0,
             "ticks": ""
            },
            "colorscale": [
             [
              0,
              "#0d0887"
             ],
             [
              0.1111111111111111,
              "#46039f"
             ],
             [
              0.2222222222222222,
              "#7201a8"
             ],
             [
              0.3333333333333333,
              "#9c179e"
             ],
             [
              0.4444444444444444,
              "#bd3786"
             ],
             [
              0.5555555555555556,
              "#d8576b"
             ],
             [
              0.6666666666666666,
              "#ed7953"
             ],
             [
              0.7777777777777778,
              "#fb9f3a"
             ],
             [
              0.8888888888888888,
              "#fdca26"
             ],
             [
              1,
              "#f0f921"
             ]
            ],
            "type": "heatmapgl"
           }
          ],
          "histogram": [
           {
            "marker": {
             "pattern": {
              "fillmode": "overlay",
              "size": 10,
              "solidity": 0.2
             }
            },
            "type": "histogram"
           }
          ],
          "histogram2d": [
           {
            "colorbar": {
             "outlinewidth": 0,
             "ticks": ""
            },
            "colorscale": [
             [
              0,
              "#0d0887"
             ],
             [
              0.1111111111111111,
              "#46039f"
             ],
             [
              0.2222222222222222,
              "#7201a8"
             ],
             [
              0.3333333333333333,
              "#9c179e"
             ],
             [
              0.4444444444444444,
              "#bd3786"
             ],
             [
              0.5555555555555556,
              "#d8576b"
             ],
             [
              0.6666666666666666,
              "#ed7953"
             ],
             [
              0.7777777777777778,
              "#fb9f3a"
             ],
             [
              0.8888888888888888,
              "#fdca26"
             ],
             [
              1,
              "#f0f921"
             ]
            ],
            "type": "histogram2d"
           }
          ],
          "histogram2dcontour": [
           {
            "colorbar": {
             "outlinewidth": 0,
             "ticks": ""
            },
            "colorscale": [
             [
              0,
              "#0d0887"
             ],
             [
              0.1111111111111111,
              "#46039f"
             ],
             [
              0.2222222222222222,
              "#7201a8"
             ],
             [
              0.3333333333333333,
              "#9c179e"
             ],
             [
              0.4444444444444444,
              "#bd3786"
             ],
             [
              0.5555555555555556,
              "#d8576b"
             ],
             [
              0.6666666666666666,
              "#ed7953"
             ],
             [
              0.7777777777777778,
              "#fb9f3a"
             ],
             [
              0.8888888888888888,
              "#fdca26"
             ],
             [
              1,
              "#f0f921"
             ]
            ],
            "type": "histogram2dcontour"
           }
          ],
          "mesh3d": [
           {
            "colorbar": {
             "outlinewidth": 0,
             "ticks": ""
            },
            "type": "mesh3d"
           }
          ],
          "parcoords": [
           {
            "line": {
             "colorbar": {
              "outlinewidth": 0,
              "ticks": ""
             }
            },
            "type": "parcoords"
           }
          ],
          "pie": [
           {
            "automargin": true,
            "type": "pie"
           }
          ],
          "scatter": [
           {
            "fillpattern": {
             "fillmode": "overlay",
             "size": 10,
             "solidity": 0.2
            },
            "type": "scatter"
           }
          ],
          "scatter3d": [
           {
            "line": {
             "colorbar": {
              "outlinewidth": 0,
              "ticks": ""
             }
            },
            "marker": {
             "colorbar": {
              "outlinewidth": 0,
              "ticks": ""
             }
            },
            "type": "scatter3d"
           }
          ],
          "scattercarpet": [
           {
            "marker": {
             "colorbar": {
              "outlinewidth": 0,
              "ticks": ""
             }
            },
            "type": "scattercarpet"
           }
          ],
          "scattergeo": [
           {
            "marker": {
             "colorbar": {
              "outlinewidth": 0,
              "ticks": ""
             }
            },
            "type": "scattergeo"
           }
          ],
          "scattergl": [
           {
            "marker": {
             "colorbar": {
              "outlinewidth": 0,
              "ticks": ""
             }
            },
            "type": "scattergl"
           }
          ],
          "scattermapbox": [
           {
            "marker": {
             "colorbar": {
              "outlinewidth": 0,
              "ticks": ""
             }
            },
            "type": "scattermapbox"
           }
          ],
          "scatterpolar": [
           {
            "marker": {
             "colorbar": {
              "outlinewidth": 0,
              "ticks": ""
             }
            },
            "type": "scatterpolar"
           }
          ],
          "scatterpolargl": [
           {
            "marker": {
             "colorbar": {
              "outlinewidth": 0,
              "ticks": ""
             }
            },
            "type": "scatterpolargl"
           }
          ],
          "scatterternary": [
           {
            "marker": {
             "colorbar": {
              "outlinewidth": 0,
              "ticks": ""
             }
            },
            "type": "scatterternary"
           }
          ],
          "surface": [
           {
            "colorbar": {
             "outlinewidth": 0,
             "ticks": ""
            },
            "colorscale": [
             [
              0,
              "#0d0887"
             ],
             [
              0.1111111111111111,
              "#46039f"
             ],
             [
              0.2222222222222222,
              "#7201a8"
             ],
             [
              0.3333333333333333,
              "#9c179e"
             ],
             [
              0.4444444444444444,
              "#bd3786"
             ],
             [
              0.5555555555555556,
              "#d8576b"
             ],
             [
              0.6666666666666666,
              "#ed7953"
             ],
             [
              0.7777777777777778,
              "#fb9f3a"
             ],
             [
              0.8888888888888888,
              "#fdca26"
             ],
             [
              1,
              "#f0f921"
             ]
            ],
            "type": "surface"
           }
          ],
          "table": [
           {
            "cells": {
             "fill": {
              "color": "#EBF0F8"
             },
             "line": {
              "color": "white"
             }
            },
            "header": {
             "fill": {
              "color": "#C8D4E3"
             },
             "line": {
              "color": "white"
             }
            },
            "type": "table"
           }
          ]
         },
         "layout": {
          "annotationdefaults": {
           "arrowcolor": "#2a3f5f",
           "arrowhead": 0,
           "arrowwidth": 1
          },
          "autotypenumbers": "strict",
          "coloraxis": {
           "colorbar": {
            "outlinewidth": 0,
            "ticks": ""
           }
          },
          "colorscale": {
           "diverging": [
            [
             0,
             "#8e0152"
            ],
            [
             0.1,
             "#c51b7d"
            ],
            [
             0.2,
             "#de77ae"
            ],
            [
             0.3,
             "#f1b6da"
            ],
            [
             0.4,
             "#fde0ef"
            ],
            [
             0.5,
             "#f7f7f7"
            ],
            [
             0.6,
             "#e6f5d0"
            ],
            [
             0.7,
             "#b8e186"
            ],
            [
             0.8,
             "#7fbc41"
            ],
            [
             0.9,
             "#4d9221"
            ],
            [
             1,
             "#276419"
            ]
           ],
           "sequential": [
            [
             0,
             "#0d0887"
            ],
            [
             0.1111111111111111,
             "#46039f"
            ],
            [
             0.2222222222222222,
             "#7201a8"
            ],
            [
             0.3333333333333333,
             "#9c179e"
            ],
            [
             0.4444444444444444,
             "#bd3786"
            ],
            [
             0.5555555555555556,
             "#d8576b"
            ],
            [
             0.6666666666666666,
             "#ed7953"
            ],
            [
             0.7777777777777778,
             "#fb9f3a"
            ],
            [
             0.8888888888888888,
             "#fdca26"
            ],
            [
             1,
             "#f0f921"
            ]
           ],
           "sequentialminus": [
            [
             0,
             "#0d0887"
            ],
            [
             0.1111111111111111,
             "#46039f"
            ],
            [
             0.2222222222222222,
             "#7201a8"
            ],
            [
             0.3333333333333333,
             "#9c179e"
            ],
            [
             0.4444444444444444,
             "#bd3786"
            ],
            [
             0.5555555555555556,
             "#d8576b"
            ],
            [
             0.6666666666666666,
             "#ed7953"
            ],
            [
             0.7777777777777778,
             "#fb9f3a"
            ],
            [
             0.8888888888888888,
             "#fdca26"
            ],
            [
             1,
             "#f0f921"
            ]
           ]
          },
          "colorway": [
           "#636efa",
           "#EF553B",
           "#00cc96",
           "#ab63fa",
           "#FFA15A",
           "#19d3f3",
           "#FF6692",
           "#B6E880",
           "#FF97FF",
           "#FECB52"
          ],
          "font": {
           "color": "#2a3f5f"
          },
          "geo": {
           "bgcolor": "white",
           "lakecolor": "white",
           "landcolor": "#E5ECF6",
           "showlakes": true,
           "showland": true,
           "subunitcolor": "white"
          },
          "hoverlabel": {
           "align": "left"
          },
          "hovermode": "closest",
          "mapbox": {
           "style": "light"
          },
          "paper_bgcolor": "white",
          "plot_bgcolor": "#E5ECF6",
          "polar": {
           "angularaxis": {
            "gridcolor": "white",
            "linecolor": "white",
            "ticks": ""
           },
           "bgcolor": "#E5ECF6",
           "radialaxis": {
            "gridcolor": "white",
            "linecolor": "white",
            "ticks": ""
           }
          },
          "scene": {
           "xaxis": {
            "backgroundcolor": "#E5ECF6",
            "gridcolor": "white",
            "gridwidth": 2,
            "linecolor": "white",
            "showbackground": true,
            "ticks": "",
            "zerolinecolor": "white"
           },
           "yaxis": {
            "backgroundcolor": "#E5ECF6",
            "gridcolor": "white",
            "gridwidth": 2,
            "linecolor": "white",
            "showbackground": true,
            "ticks": "",
            "zerolinecolor": "white"
           },
           "zaxis": {
            "backgroundcolor": "#E5ECF6",
            "gridcolor": "white",
            "gridwidth": 2,
            "linecolor": "white",
            "showbackground": true,
            "ticks": "",
            "zerolinecolor": "white"
           }
          },
          "shapedefaults": {
           "line": {
            "color": "#2a3f5f"
           }
          },
          "ternary": {
           "aaxis": {
            "gridcolor": "white",
            "linecolor": "white",
            "ticks": ""
           },
           "baxis": {
            "gridcolor": "white",
            "linecolor": "white",
            "ticks": ""
           },
           "bgcolor": "#E5ECF6",
           "caxis": {
            "gridcolor": "white",
            "linecolor": "white",
            "ticks": ""
           }
          },
          "title": {
           "x": 0.05
          },
          "xaxis": {
           "automargin": true,
           "gridcolor": "white",
           "linecolor": "white",
           "ticks": "",
           "title": {
            "standoff": 15
           },
           "zerolinecolor": "white",
           "zerolinewidth": 2
          },
          "yaxis": {
           "automargin": true,
           "gridcolor": "white",
           "linecolor": "white",
           "ticks": "",
           "title": {
            "standoff": 15
           },
           "zerolinecolor": "white",
           "zerolinewidth": 2
          }
         }
        },
        "title": {
         "text": "Percentage of movies in the dataset - robinson projection"
        }
       }
      },
      "text/html": [
       "<div>                            <div id=\"ad7e9b7a-8e05-4664-b869-5fe352b47449\" class=\"plotly-graph-div\" style=\"height:525px; width:100%;\"></div>            <script type=\"text/javascript\">                require([\"plotly\"], function(Plotly) {                    window.PLOTLYENV=window.PLOTLYENV || {};                                    if (document.getElementById(\"ad7e9b7a-8e05-4664-b869-5fe352b47449\")) {                    Plotly.newPlot(                        \"ad7e9b7a-8e05-4664-b869-5fe352b47449\",                        [{\"locations\":[\"USA\",\"IND\",\"GBR\",\"FRA\",\"ITA\",\"JPN\",\"CAN\",\"DEU\",\"ARG\",\"HKG\",\"ESP\",\"AUS\",\"KOR\",\"MEX\",\"NLD\",\"SWE\",\"not found\",\"CHN\",\"DNK\",\"not found\",\"PHL\",\"POL\",\"CZE\",\"BEL\",\"NZL\",\"NOR\",\"RUS\",\"HUN\",\"not found\",\"not found\",\"BRA\",\"IRL\",\"CHE\",\"AUT\",\"FIN\",\"CZE\",\"ISR\",\"TUR\",\"not found\",\"IRN\",\"THA\",\"ZAF\",\"GRC\",\"PAK\",\"TWN\",\"PRT\",\"HRV\",\"EGY\",\"ROU\",\"IDN\",\"MYS\",\"BGR\",\"LKA\",\"SGP\",\"ISL\",\"KHM\",\"LUX\",\"BGD\",\"not found\",\"CHL\",\"SRB\",\"MAR\",\"CUB\",\"COL\",\"not found\",\"DZA\",\"NPL\",\"TUN\",\"LBN\",\"BFA\",\"EST\",\"BIH\",\"SVK\",\"SEN\",\"SVN\",\"VEN\",\"PRI\",\"VNM\",\"ALB\",\"UKR\",\"KOR\",\"AZE\",\"PER\",\"NGA\",\"MMR\",\"DEU\",\"COD\",\"MKD\",\"URY\",\"not found\",\"not found\",\"GEO\",\"MLI\",\"IRQ\",\"LTU\",\"KEN\",\"ARE\",\"ARM\",\"GBR\",\"CMR\",\"BOL\",\"AFG\",\"not found\",\"GEO\",\"JAM\",\"ETH\",\"PSE\",\"PSE\",\"SVK\",\"UZB\",\"not found\",\"ZWE\",\"PAN\",\"UZB\",\"CRI\",\"MLT\",\"not found\",\"MNE\",\"ITA\",\"MCO\",\"CYP\",\"MNG\",\"COG\",\"UKR\",\"GIN\",\"LBY\",\"BHS\",\"HTI\",\"KWT\",\"BTN\",\"ABW\",\"BHR\",\"QAT\",\"ZMB\",\"IMN\",\"not found\",\"JOR\",\"not found\",\"IRQ\",\"TKM\",\"GNB\",\"not found\",\"TWN\",\"MAC\",\"PSE\",\"not found\",\"not found\"],\"text\":[\"United States of America\",\"India\",\"United Kingdom\",\"France\",\"Italy\",\"Japan\",\"Canada\",\"Germany\",\"Argentina\",\"Hong Kong\",\"Spain\",\"Australia\",\"South Korea\",\"Mexico\",\"Netherlands\",\"Sweden\",\"West Germany\",\"China\",\"Denmark\",\"Soviet Union\",\"Philippines\",\"Poland\",\"Czechoslovakia\",\"Belgium\",\"New Zealand\",\"Norway\",\"Russia\",\"Hungary\",\"German Democratic Republic\",\"Yugoslavia\",\"Brazil\",\"Ireland\",\"Switzerland\",\"Austria\",\"Finland\",\"Czech Republic\",\"Israel\",\"Turkey\",\"England\",\"Iran\",\"Thailand\",\"South Africa\",\"Greece\",\"Pakistan\",\"Taiwan\",\"Portugal\",\"Croatia\",\"Egypt\",\"Romania\",\"Indonesia\",\"Malaysia\",\"Bulgaria\",\"Sri Lanka\",\"Singapore\",\"Iceland\",\"Cambodia\",\"Luxembourg\",\"Bangladesh\",\"Weimar Republic\",\"Chile\",\"Serbia\",\"Morocco\",\"Cuba\",\"Colombia\",\"Scotland\",\"Algeria\",\"Nepal\",\"Tunisia\",\"Lebanon\",\"Burkina Faso\",\"Estonia\",\"Bosnia and Herzegovina\",\"Slovakia\",\"Senegal\",\"Slovenia\",\"Venezuela\",\"Puerto Rico\",\"Vietnam\",\"Albania\",\"Ukraine\",\"Korea\",\"Azerbaijan\",\"Peru\",\"Nigeria\",\"Burma\",\"Nazi Germany\",\"Democratic Republic of the Congo\",\"Republic of Macedonia\",\"Uruguay\",\"Socialist Federal Republic of Yugoslavia\",\"Serbia and Montenegro\",\"Georgia\",\"Mali\",\"Iraq\",\"Lithuania\",\"Kenya\",\"United Arab Emirates\",\"Armenia\",\"Kingdom of Great Britain\",\"Cameroon\",\"Bolivia\",\"Afghanistan\",\"Federal Republic of Yugoslavia\",\"Georgian SSR\",\"Jamaica\",\"Ethiopia\",\"Palestinian territories\",\"Mandatory Palestine\",\"Slovak Republic\",\"Uzbek SSR\",\"Wales\",\"Zimbabwe\",\"Panama\",\"Uzbekistan\",\"Costa Rica\",\"Malta\",\"Northern Ireland\",\"Montenegro\",\"Kingdom of Italy\",\"Monaco\",\"Cyprus\",\"Mongolia\",\"Congo\",\"Ukrainian SSR\",\"Guinea\",\"Libya\",\"Bahamas\",\"Haiti\",\"Kuwait\",\"Bhutan\",\"Aruba\",\"Bahrain\",\"Qatar\",\"Zambia\",\"Isle of Man\",\"Soviet occupation zone\",\"Jordan\",\"Malayalam Language\",\"Iraqi Kurdistan\",\"Turkmenistan\",\"Guinea-Bissau\",\"Crime\",\"Republic of China\",\"Macau\",\"Palestinian Territories\",\"German Language\",\"Ukranian SSR\"],\"z\":[39,9,9,5,3,3,2,2,1,1,1,1,1,1,0,0,0,0,0,0,0,0,0,0,0,0,0,0,0,0,0,0,0,0,0,0,0,0,0,0,0,0,0,0,0,0,0,0,0,0,0,0,0,0,0,0,0,0,0,0,0,0,0,0,0,0,0,0,0,0,0,0,0,0,0,0,0,0,0,0,0,0,0,0,0,0,0,0,0,0,0,0,0,0,0,0,0,0,0,0,0,0,0,0,0,0,0,0,0,0,0,0,0,0,0,0,0,0,0,0,0,0,0,0,0,0,0,0,0,0,0,0,0,0,0,0,0,0,0,0,0,0,0,0,0,0,0],\"type\":\"choropleth\"}],                        {\"geo\":{\"lakecolor\":\"rgb(0,191,255)\",\"projection\":{\"type\":\"robinson\"},\"showlakes\":false},\"template\":{\"data\":{\"barpolar\":[{\"marker\":{\"line\":{\"color\":\"#E5ECF6\",\"width\":0.5},\"pattern\":{\"fillmode\":\"overlay\",\"size\":10,\"solidity\":0.2}},\"type\":\"barpolar\"}],\"bar\":[{\"error_x\":{\"color\":\"#2a3f5f\"},\"error_y\":{\"color\":\"#2a3f5f\"},\"marker\":{\"line\":{\"color\":\"#E5ECF6\",\"width\":0.5},\"pattern\":{\"fillmode\":\"overlay\",\"size\":10,\"solidity\":0.2}},\"type\":\"bar\"}],\"carpet\":[{\"aaxis\":{\"endlinecolor\":\"#2a3f5f\",\"gridcolor\":\"white\",\"linecolor\":\"white\",\"minorgridcolor\":\"white\",\"startlinecolor\":\"#2a3f5f\"},\"baxis\":{\"endlinecolor\":\"#2a3f5f\",\"gridcolor\":\"white\",\"linecolor\":\"white\",\"minorgridcolor\":\"white\",\"startlinecolor\":\"#2a3f5f\"},\"type\":\"carpet\"}],\"choropleth\":[{\"colorbar\":{\"outlinewidth\":0,\"ticks\":\"\"},\"type\":\"choropleth\"}],\"contourcarpet\":[{\"colorbar\":{\"outlinewidth\":0,\"ticks\":\"\"},\"type\":\"contourcarpet\"}],\"contour\":[{\"colorbar\":{\"outlinewidth\":0,\"ticks\":\"\"},\"colorscale\":[[0.0,\"#0d0887\"],[0.1111111111111111,\"#46039f\"],[0.2222222222222222,\"#7201a8\"],[0.3333333333333333,\"#9c179e\"],[0.4444444444444444,\"#bd3786\"],[0.5555555555555556,\"#d8576b\"],[0.6666666666666666,\"#ed7953\"],[0.7777777777777778,\"#fb9f3a\"],[0.8888888888888888,\"#fdca26\"],[1.0,\"#f0f921\"]],\"type\":\"contour\"}],\"heatmapgl\":[{\"colorbar\":{\"outlinewidth\":0,\"ticks\":\"\"},\"colorscale\":[[0.0,\"#0d0887\"],[0.1111111111111111,\"#46039f\"],[0.2222222222222222,\"#7201a8\"],[0.3333333333333333,\"#9c179e\"],[0.4444444444444444,\"#bd3786\"],[0.5555555555555556,\"#d8576b\"],[0.6666666666666666,\"#ed7953\"],[0.7777777777777778,\"#fb9f3a\"],[0.8888888888888888,\"#fdca26\"],[1.0,\"#f0f921\"]],\"type\":\"heatmapgl\"}],\"heatmap\":[{\"colorbar\":{\"outlinewidth\":0,\"ticks\":\"\"},\"colorscale\":[[0.0,\"#0d0887\"],[0.1111111111111111,\"#46039f\"],[0.2222222222222222,\"#7201a8\"],[0.3333333333333333,\"#9c179e\"],[0.4444444444444444,\"#bd3786\"],[0.5555555555555556,\"#d8576b\"],[0.6666666666666666,\"#ed7953\"],[0.7777777777777778,\"#fb9f3a\"],[0.8888888888888888,\"#fdca26\"],[1.0,\"#f0f921\"]],\"type\":\"heatmap\"}],\"histogram2dcontour\":[{\"colorbar\":{\"outlinewidth\":0,\"ticks\":\"\"},\"colorscale\":[[0.0,\"#0d0887\"],[0.1111111111111111,\"#46039f\"],[0.2222222222222222,\"#7201a8\"],[0.3333333333333333,\"#9c179e\"],[0.4444444444444444,\"#bd3786\"],[0.5555555555555556,\"#d8576b\"],[0.6666666666666666,\"#ed7953\"],[0.7777777777777778,\"#fb9f3a\"],[0.8888888888888888,\"#fdca26\"],[1.0,\"#f0f921\"]],\"type\":\"histogram2dcontour\"}],\"histogram2d\":[{\"colorbar\":{\"outlinewidth\":0,\"ticks\":\"\"},\"colorscale\":[[0.0,\"#0d0887\"],[0.1111111111111111,\"#46039f\"],[0.2222222222222222,\"#7201a8\"],[0.3333333333333333,\"#9c179e\"],[0.4444444444444444,\"#bd3786\"],[0.5555555555555556,\"#d8576b\"],[0.6666666666666666,\"#ed7953\"],[0.7777777777777778,\"#fb9f3a\"],[0.8888888888888888,\"#fdca26\"],[1.0,\"#f0f921\"]],\"type\":\"histogram2d\"}],\"histogram\":[{\"marker\":{\"pattern\":{\"fillmode\":\"overlay\",\"size\":10,\"solidity\":0.2}},\"type\":\"histogram\"}],\"mesh3d\":[{\"colorbar\":{\"outlinewidth\":0,\"ticks\":\"\"},\"type\":\"mesh3d\"}],\"parcoords\":[{\"line\":{\"colorbar\":{\"outlinewidth\":0,\"ticks\":\"\"}},\"type\":\"parcoords\"}],\"pie\":[{\"automargin\":true,\"type\":\"pie\"}],\"scatter3d\":[{\"line\":{\"colorbar\":{\"outlinewidth\":0,\"ticks\":\"\"}},\"marker\":{\"colorbar\":{\"outlinewidth\":0,\"ticks\":\"\"}},\"type\":\"scatter3d\"}],\"scattercarpet\":[{\"marker\":{\"colorbar\":{\"outlinewidth\":0,\"ticks\":\"\"}},\"type\":\"scattercarpet\"}],\"scattergeo\":[{\"marker\":{\"colorbar\":{\"outlinewidth\":0,\"ticks\":\"\"}},\"type\":\"scattergeo\"}],\"scattergl\":[{\"marker\":{\"colorbar\":{\"outlinewidth\":0,\"ticks\":\"\"}},\"type\":\"scattergl\"}],\"scattermapbox\":[{\"marker\":{\"colorbar\":{\"outlinewidth\":0,\"ticks\":\"\"}},\"type\":\"scattermapbox\"}],\"scatterpolargl\":[{\"marker\":{\"colorbar\":{\"outlinewidth\":0,\"ticks\":\"\"}},\"type\":\"scatterpolargl\"}],\"scatterpolar\":[{\"marker\":{\"colorbar\":{\"outlinewidth\":0,\"ticks\":\"\"}},\"type\":\"scatterpolar\"}],\"scatter\":[{\"fillpattern\":{\"fillmode\":\"overlay\",\"size\":10,\"solidity\":0.2},\"type\":\"scatter\"}],\"scatterternary\":[{\"marker\":{\"colorbar\":{\"outlinewidth\":0,\"ticks\":\"\"}},\"type\":\"scatterternary\"}],\"surface\":[{\"colorbar\":{\"outlinewidth\":0,\"ticks\":\"\"},\"colorscale\":[[0.0,\"#0d0887\"],[0.1111111111111111,\"#46039f\"],[0.2222222222222222,\"#7201a8\"],[0.3333333333333333,\"#9c179e\"],[0.4444444444444444,\"#bd3786\"],[0.5555555555555556,\"#d8576b\"],[0.6666666666666666,\"#ed7953\"],[0.7777777777777778,\"#fb9f3a\"],[0.8888888888888888,\"#fdca26\"],[1.0,\"#f0f921\"]],\"type\":\"surface\"}],\"table\":[{\"cells\":{\"fill\":{\"color\":\"#EBF0F8\"},\"line\":{\"color\":\"white\"}},\"header\":{\"fill\":{\"color\":\"#C8D4E3\"},\"line\":{\"color\":\"white\"}},\"type\":\"table\"}]},\"layout\":{\"annotationdefaults\":{\"arrowcolor\":\"#2a3f5f\",\"arrowhead\":0,\"arrowwidth\":1},\"autotypenumbers\":\"strict\",\"coloraxis\":{\"colorbar\":{\"outlinewidth\":0,\"ticks\":\"\"}},\"colorscale\":{\"diverging\":[[0,\"#8e0152\"],[0.1,\"#c51b7d\"],[0.2,\"#de77ae\"],[0.3,\"#f1b6da\"],[0.4,\"#fde0ef\"],[0.5,\"#f7f7f7\"],[0.6,\"#e6f5d0\"],[0.7,\"#b8e186\"],[0.8,\"#7fbc41\"],[0.9,\"#4d9221\"],[1,\"#276419\"]],\"sequential\":[[0.0,\"#0d0887\"],[0.1111111111111111,\"#46039f\"],[0.2222222222222222,\"#7201a8\"],[0.3333333333333333,\"#9c179e\"],[0.4444444444444444,\"#bd3786\"],[0.5555555555555556,\"#d8576b\"],[0.6666666666666666,\"#ed7953\"],[0.7777777777777778,\"#fb9f3a\"],[0.8888888888888888,\"#fdca26\"],[1.0,\"#f0f921\"]],\"sequentialminus\":[[0.0,\"#0d0887\"],[0.1111111111111111,\"#46039f\"],[0.2222222222222222,\"#7201a8\"],[0.3333333333333333,\"#9c179e\"],[0.4444444444444444,\"#bd3786\"],[0.5555555555555556,\"#d8576b\"],[0.6666666666666666,\"#ed7953\"],[0.7777777777777778,\"#fb9f3a\"],[0.8888888888888888,\"#fdca26\"],[1.0,\"#f0f921\"]]},\"colorway\":[\"#636efa\",\"#EF553B\",\"#00cc96\",\"#ab63fa\",\"#FFA15A\",\"#19d3f3\",\"#FF6692\",\"#B6E880\",\"#FF97FF\",\"#FECB52\"],\"font\":{\"color\":\"#2a3f5f\"},\"geo\":{\"bgcolor\":\"white\",\"lakecolor\":\"white\",\"landcolor\":\"#E5ECF6\",\"showlakes\":true,\"showland\":true,\"subunitcolor\":\"white\"},\"hoverlabel\":{\"align\":\"left\"},\"hovermode\":\"closest\",\"mapbox\":{\"style\":\"light\"},\"paper_bgcolor\":\"white\",\"plot_bgcolor\":\"#E5ECF6\",\"polar\":{\"angularaxis\":{\"gridcolor\":\"white\",\"linecolor\":\"white\",\"ticks\":\"\"},\"bgcolor\":\"#E5ECF6\",\"radialaxis\":{\"gridcolor\":\"white\",\"linecolor\":\"white\",\"ticks\":\"\"}},\"scene\":{\"xaxis\":{\"backgroundcolor\":\"#E5ECF6\",\"gridcolor\":\"white\",\"gridwidth\":2,\"linecolor\":\"white\",\"showbackground\":true,\"ticks\":\"\",\"zerolinecolor\":\"white\"},\"yaxis\":{\"backgroundcolor\":\"#E5ECF6\",\"gridcolor\":\"white\",\"gridwidth\":2,\"linecolor\":\"white\",\"showbackground\":true,\"ticks\":\"\",\"zerolinecolor\":\"white\"},\"zaxis\":{\"backgroundcolor\":\"#E5ECF6\",\"gridcolor\":\"white\",\"gridwidth\":2,\"linecolor\":\"white\",\"showbackground\":true,\"ticks\":\"\",\"zerolinecolor\":\"white\"}},\"shapedefaults\":{\"line\":{\"color\":\"#2a3f5f\"}},\"ternary\":{\"aaxis\":{\"gridcolor\":\"white\",\"linecolor\":\"white\",\"ticks\":\"\"},\"baxis\":{\"gridcolor\":\"white\",\"linecolor\":\"white\",\"ticks\":\"\"},\"bgcolor\":\"#E5ECF6\",\"caxis\":{\"gridcolor\":\"white\",\"linecolor\":\"white\",\"ticks\":\"\"}},\"title\":{\"x\":0.05},\"xaxis\":{\"automargin\":true,\"gridcolor\":\"white\",\"linecolor\":\"white\",\"ticks\":\"\",\"title\":{\"standoff\":15},\"zerolinecolor\":\"white\",\"zerolinewidth\":2},\"yaxis\":{\"automargin\":true,\"gridcolor\":\"white\",\"linecolor\":\"white\",\"ticks\":\"\",\"title\":{\"standoff\":15},\"zerolinecolor\":\"white\",\"zerolinewidth\":2}}},\"title\":{\"text\":\"Percentage of movies in the dataset - robinson projection\"}},                        {\"responsive\": true}                    ).then(function(){\n",
       "                            \n",
       "var gd = document.getElementById('ad7e9b7a-8e05-4664-b869-5fe352b47449');\n",
       "var x = new MutationObserver(function (mutations, observer) {{\n",
       "        var display = window.getComputedStyle(gd).display;\n",
       "        if (!display || display === 'none') {{\n",
       "            console.log([gd, 'removed!']);\n",
       "            Plotly.purge(gd);\n",
       "            observer.disconnect();\n",
       "        }}\n",
       "}});\n",
       "\n",
       "// Listen for the removal of the full notebook cells\n",
       "var notebookContainer = gd.closest('#notebook-container');\n",
       "if (notebookContainer) {{\n",
       "    x.observe(notebookContainer, {childList: true});\n",
       "}}\n",
       "\n",
       "// Listen for the clearing of the current output cell\n",
       "var outputEl = gd.closest('.output');\n",
       "if (outputEl) {{\n",
       "    x.observe(outputEl, {childList: true});\n",
       "}}\n",
       "\n",
       "                        })                };                });            </script>        </div>"
      ]
     },
     "metadata": {},
     "output_type": "display_data"
    }
   ],
   "source": [
    "\n",
    "#Convert country name\n",
    "some_countries = df_countries['Countries']\n",
    "iso3_codes = cc.pandas_convert(series=some_countries, to='ISO3')   \n",
    "df_countries['code']=iso3_codes\n",
    "\n",
    "\n",
    "#Plot \n",
    "data = dict(type='choropleth', \n",
    "           locations = df_countries['code'], \n",
    "           z = df_countries['percentage'], \n",
    "           text = df_countries['Countries'])\n",
    "\n",
    "layout = dict(title = 'Percentage of movies in the dataset - robinson projection',\n",
    "              geo = dict( projection = {'type':'robinson'},\n",
    "                         showlakes = False, \n",
    "                         lakecolor = 'rgb(0,191,255)'))\n",
    "x = pg.Figure(data = [data], \n",
    "              layout = layout)\n",
    "po.iplot(x)"
   ]
  },
  {
   "cell_type": "markdown",
   "id": "0e07b693",
   "metadata": {},
   "source": [
    "We see unequivocally that the main country of origin of the movies is the USA with 39% of all the occurences. The second main country is India with 9% of all the occurences. This great difference leads us to focus our study on the USA. In fact, we want to see a time evolution of the representation of women. From this, it is important to restrict the area of study to one country so that we remove the differences in the history of the different countries. Furthemore, as the history of the USA is well documented, we could try to link our results to importants events or social phenomena."
   ]
  },
  {
   "cell_type": "markdown",
   "id": "76a26535",
   "metadata": {},
   "source": [
    "## 3) Data processing"
   ]
  },
  {
   "cell_type": "markdown",
   "id": "74b48a05",
   "metadata": {},
   "source": [
    "### 3.1) Numeric data processing"
   ]
  },
  {
   "cell_type": "code",
   "execution_count": null,
   "id": "84b4bc5e",
   "metadata": {},
   "outputs": [],
   "source": []
  },
  {
   "cell_type": "markdown",
   "id": "ac757a39",
   "metadata": {},
   "source": [
    "### 3.2) Lexical data processing"
   ]
  },
  {
   "cell_type": "code",
   "execution_count": null,
   "id": "fee92c4f",
   "metadata": {},
   "outputs": [],
   "source": []
  },
  {
   "cell_type": "markdown",
   "id": "86862b6d",
   "metadata": {},
   "source": [
    "### 3.3) Google trends"
   ]
  }
 ],
 "metadata": {
  "hide_input": false,
  "kernelspec": {
   "display_name": "Python 3 (ipykernel)",
   "language": "python",
   "name": "python3"
  },
  "language_info": {
   "codemirror_mode": {
    "name": "ipython",
    "version": 3
   },
   "file_extension": ".py",
   "mimetype": "text/x-python",
   "name": "python",
   "nbconvert_exporter": "python",
   "pygments_lexer": "ipython3",
   "version": "3.9.13"
  }
 },
 "nbformat": 4,
 "nbformat_minor": 5
}
